{
 "cells": [
  {
   "cell_type": "code",
   "execution_count": 55,
   "metadata": {
    "collapsed": true,
    "pycharm": {
     "name": "#%%\n"
    }
   },
   "outputs": [],
   "source": [
    "import altair as alt\n",
    "import pandas as pd\n",
    "import numpy as np\n",
    "\n",
    "from vega_datasets import data"
   ]
  },
  {
   "cell_type": "code",
   "execution_count": 48,
   "outputs": [
    {
     "data": {
      "text/plain": "             State   Latitude   Longitude\n0          Alabama  32.318230  -86.902298\n1           Alaska  66.160507 -153.369141\n2          Arizona  34.048927 -111.093735\n3         Arkansas  34.799999  -92.199997\n4       California  36.778259 -119.417931\n5         Colorado  39.113014 -105.358887\n6      Connecticut  41.599998  -72.699997\n7               DC  38.907200   77.036900\n8         Delaware  39.000000  -75.500000\n9          Florida  27.994402  -81.760254\n10         Georgia  33.247875  -83.441162\n11          Hawaii  19.741755 -155.844437\n12           Idaho  44.068203 -114.742043\n13        Illinois  40.000000  -89.000000\n14         Indiana  40.273502  -86.126976\n15            Iowa  42.032974  -93.581543\n16          Kansas  38.500000  -98.000000\n17        Kentucky  37.839333  -84.270020\n18       Louisiana  30.391830  -92.329102\n19           Maine  45.367584  -68.972168\n20        Maryland  39.045753  -76.641273\n21   Massachusetts  42.407211  -71.382439\n22        Michigan  44.182205  -84.506836\n23       Minnesota  46.392410  -94.636230\n24     Mississippi  33.000000  -90.000000\n25        Missouri  38.573936  -92.603760\n26         Montana  46.965260 -109.533691\n27        Nebraska  41.500000 -100.000000\n28          Nevada  39.876019 -117.224121\n29   New Hampshire  44.000000  -71.500000\n30      New Jersey  39.833851  -74.871826\n31      New Mexico  34.307144 -106.018066\n32        New York  43.000000  -75.000000\n33  North Carolina  35.782169  -80.793457\n34    North Dakota  47.650589 -100.437012\n35            Ohio  40.367474  -82.996216\n36        Oklahoma  36.084621  -96.921387\n37          Oregon  44.000000 -120.500000\n38    Pennsylvania  41.203323  -77.194527\n39    Rhode Island  41.742325  -71.742332\n40  South Carolina  33.836082  -81.163727\n41    South Dakota  44.500000 -100.000000\n42       Tennessee  35.860119  -86.660156\n43           Texas  31.000000 -100.000000\n44            Utah  39.419220 -111.950684\n45         Vermont  44.000000  -72.699997\n46        Virginia  37.926868  -78.024902\n47      Washington  47.751076 -120.740135\n48   West Virginia  39.000000  -80.500000\n49       Wisconsin  44.500000  -89.500000\n50         Wyoming  43.075970 -107.290283",
      "text/html": "<div>\n<style scoped>\n    .dataframe tbody tr th:only-of-type {\n        vertical-align: middle;\n    }\n\n    .dataframe tbody tr th {\n        vertical-align: top;\n    }\n\n    .dataframe thead th {\n        text-align: right;\n    }\n</style>\n<table border=\"1\" class=\"dataframe\">\n  <thead>\n    <tr style=\"text-align: right;\">\n      <th></th>\n      <th>State</th>\n      <th>Latitude</th>\n      <th>Longitude</th>\n    </tr>\n  </thead>\n  <tbody>\n    <tr>\n      <th>0</th>\n      <td>Alabama</td>\n      <td>32.318230</td>\n      <td>-86.902298</td>\n    </tr>\n    <tr>\n      <th>1</th>\n      <td>Alaska</td>\n      <td>66.160507</td>\n      <td>-153.369141</td>\n    </tr>\n    <tr>\n      <th>2</th>\n      <td>Arizona</td>\n      <td>34.048927</td>\n      <td>-111.093735</td>\n    </tr>\n    <tr>\n      <th>3</th>\n      <td>Arkansas</td>\n      <td>34.799999</td>\n      <td>-92.199997</td>\n    </tr>\n    <tr>\n      <th>4</th>\n      <td>California</td>\n      <td>36.778259</td>\n      <td>-119.417931</td>\n    </tr>\n    <tr>\n      <th>5</th>\n      <td>Colorado</td>\n      <td>39.113014</td>\n      <td>-105.358887</td>\n    </tr>\n    <tr>\n      <th>6</th>\n      <td>Connecticut</td>\n      <td>41.599998</td>\n      <td>-72.699997</td>\n    </tr>\n    <tr>\n      <th>7</th>\n      <td>DC</td>\n      <td>38.907200</td>\n      <td>77.036900</td>\n    </tr>\n    <tr>\n      <th>8</th>\n      <td>Delaware</td>\n      <td>39.000000</td>\n      <td>-75.500000</td>\n    </tr>\n    <tr>\n      <th>9</th>\n      <td>Florida</td>\n      <td>27.994402</td>\n      <td>-81.760254</td>\n    </tr>\n    <tr>\n      <th>10</th>\n      <td>Georgia</td>\n      <td>33.247875</td>\n      <td>-83.441162</td>\n    </tr>\n    <tr>\n      <th>11</th>\n      <td>Hawaii</td>\n      <td>19.741755</td>\n      <td>-155.844437</td>\n    </tr>\n    <tr>\n      <th>12</th>\n      <td>Idaho</td>\n      <td>44.068203</td>\n      <td>-114.742043</td>\n    </tr>\n    <tr>\n      <th>13</th>\n      <td>Illinois</td>\n      <td>40.000000</td>\n      <td>-89.000000</td>\n    </tr>\n    <tr>\n      <th>14</th>\n      <td>Indiana</td>\n      <td>40.273502</td>\n      <td>-86.126976</td>\n    </tr>\n    <tr>\n      <th>15</th>\n      <td>Iowa</td>\n      <td>42.032974</td>\n      <td>-93.581543</td>\n    </tr>\n    <tr>\n      <th>16</th>\n      <td>Kansas</td>\n      <td>38.500000</td>\n      <td>-98.000000</td>\n    </tr>\n    <tr>\n      <th>17</th>\n      <td>Kentucky</td>\n      <td>37.839333</td>\n      <td>-84.270020</td>\n    </tr>\n    <tr>\n      <th>18</th>\n      <td>Louisiana</td>\n      <td>30.391830</td>\n      <td>-92.329102</td>\n    </tr>\n    <tr>\n      <th>19</th>\n      <td>Maine</td>\n      <td>45.367584</td>\n      <td>-68.972168</td>\n    </tr>\n    <tr>\n      <th>20</th>\n      <td>Maryland</td>\n      <td>39.045753</td>\n      <td>-76.641273</td>\n    </tr>\n    <tr>\n      <th>21</th>\n      <td>Massachusetts</td>\n      <td>42.407211</td>\n      <td>-71.382439</td>\n    </tr>\n    <tr>\n      <th>22</th>\n      <td>Michigan</td>\n      <td>44.182205</td>\n      <td>-84.506836</td>\n    </tr>\n    <tr>\n      <th>23</th>\n      <td>Minnesota</td>\n      <td>46.392410</td>\n      <td>-94.636230</td>\n    </tr>\n    <tr>\n      <th>24</th>\n      <td>Mississippi</td>\n      <td>33.000000</td>\n      <td>-90.000000</td>\n    </tr>\n    <tr>\n      <th>25</th>\n      <td>Missouri</td>\n      <td>38.573936</td>\n      <td>-92.603760</td>\n    </tr>\n    <tr>\n      <th>26</th>\n      <td>Montana</td>\n      <td>46.965260</td>\n      <td>-109.533691</td>\n    </tr>\n    <tr>\n      <th>27</th>\n      <td>Nebraska</td>\n      <td>41.500000</td>\n      <td>-100.000000</td>\n    </tr>\n    <tr>\n      <th>28</th>\n      <td>Nevada</td>\n      <td>39.876019</td>\n      <td>-117.224121</td>\n    </tr>\n    <tr>\n      <th>29</th>\n      <td>New Hampshire</td>\n      <td>44.000000</td>\n      <td>-71.500000</td>\n    </tr>\n    <tr>\n      <th>30</th>\n      <td>New Jersey</td>\n      <td>39.833851</td>\n      <td>-74.871826</td>\n    </tr>\n    <tr>\n      <th>31</th>\n      <td>New Mexico</td>\n      <td>34.307144</td>\n      <td>-106.018066</td>\n    </tr>\n    <tr>\n      <th>32</th>\n      <td>New York</td>\n      <td>43.000000</td>\n      <td>-75.000000</td>\n    </tr>\n    <tr>\n      <th>33</th>\n      <td>North Carolina</td>\n      <td>35.782169</td>\n      <td>-80.793457</td>\n    </tr>\n    <tr>\n      <th>34</th>\n      <td>North Dakota</td>\n      <td>47.650589</td>\n      <td>-100.437012</td>\n    </tr>\n    <tr>\n      <th>35</th>\n      <td>Ohio</td>\n      <td>40.367474</td>\n      <td>-82.996216</td>\n    </tr>\n    <tr>\n      <th>36</th>\n      <td>Oklahoma</td>\n      <td>36.084621</td>\n      <td>-96.921387</td>\n    </tr>\n    <tr>\n      <th>37</th>\n      <td>Oregon</td>\n      <td>44.000000</td>\n      <td>-120.500000</td>\n    </tr>\n    <tr>\n      <th>38</th>\n      <td>Pennsylvania</td>\n      <td>41.203323</td>\n      <td>-77.194527</td>\n    </tr>\n    <tr>\n      <th>39</th>\n      <td>Rhode Island</td>\n      <td>41.742325</td>\n      <td>-71.742332</td>\n    </tr>\n    <tr>\n      <th>40</th>\n      <td>South Carolina</td>\n      <td>33.836082</td>\n      <td>-81.163727</td>\n    </tr>\n    <tr>\n      <th>41</th>\n      <td>South Dakota</td>\n      <td>44.500000</td>\n      <td>-100.000000</td>\n    </tr>\n    <tr>\n      <th>42</th>\n      <td>Tennessee</td>\n      <td>35.860119</td>\n      <td>-86.660156</td>\n    </tr>\n    <tr>\n      <th>43</th>\n      <td>Texas</td>\n      <td>31.000000</td>\n      <td>-100.000000</td>\n    </tr>\n    <tr>\n      <th>44</th>\n      <td>Utah</td>\n      <td>39.419220</td>\n      <td>-111.950684</td>\n    </tr>\n    <tr>\n      <th>45</th>\n      <td>Vermont</td>\n      <td>44.000000</td>\n      <td>-72.699997</td>\n    </tr>\n    <tr>\n      <th>46</th>\n      <td>Virginia</td>\n      <td>37.926868</td>\n      <td>-78.024902</td>\n    </tr>\n    <tr>\n      <th>47</th>\n      <td>Washington</td>\n      <td>47.751076</td>\n      <td>-120.740135</td>\n    </tr>\n    <tr>\n      <th>48</th>\n      <td>West Virginia</td>\n      <td>39.000000</td>\n      <td>-80.500000</td>\n    </tr>\n    <tr>\n      <th>49</th>\n      <td>Wisconsin</td>\n      <td>44.500000</td>\n      <td>-89.500000</td>\n    </tr>\n    <tr>\n      <th>50</th>\n      <td>Wyoming</td>\n      <td>43.075970</td>\n      <td>-107.290283</td>\n    </tr>\n  </tbody>\n</table>\n</div>"
     },
     "execution_count": 48,
     "metadata": {},
     "output_type": "execute_result"
    }
   ],
   "source": [
    "df = pd.read_csv('state_to_state_migration.csv')\n",
    "df.drop(['Unnamed: 0'], axis=1, inplace=True)\n",
    "lat_lon_df = pd.read_csv('state_lat_lon.csv')\n",
    "lat_lon_df = lat_lon_df.sort_values(by=['State']).reset_index(drop=True)\n",
    "lat_lon_df"
   ],
   "metadata": {
    "collapsed": false,
    "pycharm": {
     "name": "#%%\n"
    }
   }
  },
  {
   "cell_type": "code",
   "execution_count": 93,
   "outputs": [],
   "source": [
    "def migration_data(source):\n",
    "    filter = (df['o_state_name'] == source)\n",
    "    migration_df = df[filter]\n",
    "    migration_df.reset_index(drop=True, inplace=True)\n",
    "\n",
    "    migration_df = migration_df.groupby(['o_state_id', 'o_state_name',\n",
    "                                         'd_state_id', 'd_state_name'])['n']\\\n",
    "                               .sum()\\\n",
    "                               .reset_index()\\\n",
    "                               .drop(['o_state_id', 'o_state_name'], axis=1)\n",
    "    selection_df = migration_df[migration_df['d_state_name'] == source]\n",
    "    migration_df = migration_df[migration_df['d_state_name'] != source]\n",
    "    return migration_df, selection_df"
   ],
   "metadata": {
    "collapsed": false,
    "pycharm": {
     "name": "#%%\n"
    }
   }
  },
  {
   "cell_type": "code",
   "execution_count": 102,
   "outputs": [
    {
     "data": {
      "text/plain": "    d_state_id    d_state_name     n\n0            1         Alabama    91\n1            2          Alaska   238\n2            3         Arizona   889\n3            4        Arkansas   139\n4            5      California  1309\n5            6        Colorado  4631\n6            7     Connecticut    44\n7            8              DC   188\n8            9        Delaware    17\n9           10         Florida   475\n10          11         Georgia   244\n11          12          Hawaii   141\n12          13           Idaho  1103\n13          14        Illinois   246\n14          15         Indiana   175\n15          16            Iowa   200\n16          17          Kansas   314\n17          18        Kentucky    82\n18          19       Louisiana   139\n19          20           Maine    35\n20          21        Maryland    57\n21          22   Massachusetts    87\n22          23        Michigan   192\n23          24       Minnesota   316\n24          25     Mississippi    62\n25          26        Missouri   353\n26          27         Montana  2284\n27          28        Nebraska  1179\n28          29          Nevada   463\n29          30   New Hampshire    29\n30          31      New Jersey    32\n31          32      New Mexico   302\n32          33        New York   285\n33          34  North Carolina   258\n34          35    North Dakota   626\n35          36            Ohio   198\n36          37        Oklahoma   345\n37          38          Oregon   741\n38          39    Pennsylvania   188\n39          40    Rhode Island    20\n40          41  South Carolina    97\n41          42    South Dakota   875\n42          43       Tennessee   246\n43          44           Texas  1427\n44          45            Utah  2631\n45          46         Vermont    24\n46          47        Virginia   189\n47          48      Washington  1138\n48          49   West Virginia    33\n49          50       Wisconsin   186",
      "text/html": "<div>\n<style scoped>\n    .dataframe tbody tr th:only-of-type {\n        vertical-align: middle;\n    }\n\n    .dataframe tbody tr th {\n        vertical-align: top;\n    }\n\n    .dataframe thead th {\n        text-align: right;\n    }\n</style>\n<table border=\"1\" class=\"dataframe\">\n  <thead>\n    <tr style=\"text-align: right;\">\n      <th></th>\n      <th>d_state_id</th>\n      <th>d_state_name</th>\n      <th>n</th>\n    </tr>\n  </thead>\n  <tbody>\n    <tr>\n      <th>0</th>\n      <td>1</td>\n      <td>Alabama</td>\n      <td>91</td>\n    </tr>\n    <tr>\n      <th>1</th>\n      <td>2</td>\n      <td>Alaska</td>\n      <td>238</td>\n    </tr>\n    <tr>\n      <th>2</th>\n      <td>3</td>\n      <td>Arizona</td>\n      <td>889</td>\n    </tr>\n    <tr>\n      <th>3</th>\n      <td>4</td>\n      <td>Arkansas</td>\n      <td>139</td>\n    </tr>\n    <tr>\n      <th>4</th>\n      <td>5</td>\n      <td>California</td>\n      <td>1309</td>\n    </tr>\n    <tr>\n      <th>5</th>\n      <td>6</td>\n      <td>Colorado</td>\n      <td>4631</td>\n    </tr>\n    <tr>\n      <th>6</th>\n      <td>7</td>\n      <td>Connecticut</td>\n      <td>44</td>\n    </tr>\n    <tr>\n      <th>7</th>\n      <td>8</td>\n      <td>DC</td>\n      <td>188</td>\n    </tr>\n    <tr>\n      <th>8</th>\n      <td>9</td>\n      <td>Delaware</td>\n      <td>17</td>\n    </tr>\n    <tr>\n      <th>9</th>\n      <td>10</td>\n      <td>Florida</td>\n      <td>475</td>\n    </tr>\n    <tr>\n      <th>10</th>\n      <td>11</td>\n      <td>Georgia</td>\n      <td>244</td>\n    </tr>\n    <tr>\n      <th>11</th>\n      <td>12</td>\n      <td>Hawaii</td>\n      <td>141</td>\n    </tr>\n    <tr>\n      <th>12</th>\n      <td>13</td>\n      <td>Idaho</td>\n      <td>1103</td>\n    </tr>\n    <tr>\n      <th>13</th>\n      <td>14</td>\n      <td>Illinois</td>\n      <td>246</td>\n    </tr>\n    <tr>\n      <th>14</th>\n      <td>15</td>\n      <td>Indiana</td>\n      <td>175</td>\n    </tr>\n    <tr>\n      <th>15</th>\n      <td>16</td>\n      <td>Iowa</td>\n      <td>200</td>\n    </tr>\n    <tr>\n      <th>16</th>\n      <td>17</td>\n      <td>Kansas</td>\n      <td>314</td>\n    </tr>\n    <tr>\n      <th>17</th>\n      <td>18</td>\n      <td>Kentucky</td>\n      <td>82</td>\n    </tr>\n    <tr>\n      <th>18</th>\n      <td>19</td>\n      <td>Louisiana</td>\n      <td>139</td>\n    </tr>\n    <tr>\n      <th>19</th>\n      <td>20</td>\n      <td>Maine</td>\n      <td>35</td>\n    </tr>\n    <tr>\n      <th>20</th>\n      <td>21</td>\n      <td>Maryland</td>\n      <td>57</td>\n    </tr>\n    <tr>\n      <th>21</th>\n      <td>22</td>\n      <td>Massachusetts</td>\n      <td>87</td>\n    </tr>\n    <tr>\n      <th>22</th>\n      <td>23</td>\n      <td>Michigan</td>\n      <td>192</td>\n    </tr>\n    <tr>\n      <th>23</th>\n      <td>24</td>\n      <td>Minnesota</td>\n      <td>316</td>\n    </tr>\n    <tr>\n      <th>24</th>\n      <td>25</td>\n      <td>Mississippi</td>\n      <td>62</td>\n    </tr>\n    <tr>\n      <th>25</th>\n      <td>26</td>\n      <td>Missouri</td>\n      <td>353</td>\n    </tr>\n    <tr>\n      <th>26</th>\n      <td>27</td>\n      <td>Montana</td>\n      <td>2284</td>\n    </tr>\n    <tr>\n      <th>27</th>\n      <td>28</td>\n      <td>Nebraska</td>\n      <td>1179</td>\n    </tr>\n    <tr>\n      <th>28</th>\n      <td>29</td>\n      <td>Nevada</td>\n      <td>463</td>\n    </tr>\n    <tr>\n      <th>29</th>\n      <td>30</td>\n      <td>New Hampshire</td>\n      <td>29</td>\n    </tr>\n    <tr>\n      <th>30</th>\n      <td>31</td>\n      <td>New Jersey</td>\n      <td>32</td>\n    </tr>\n    <tr>\n      <th>31</th>\n      <td>32</td>\n      <td>New Mexico</td>\n      <td>302</td>\n    </tr>\n    <tr>\n      <th>32</th>\n      <td>33</td>\n      <td>New York</td>\n      <td>285</td>\n    </tr>\n    <tr>\n      <th>33</th>\n      <td>34</td>\n      <td>North Carolina</td>\n      <td>258</td>\n    </tr>\n    <tr>\n      <th>34</th>\n      <td>35</td>\n      <td>North Dakota</td>\n      <td>626</td>\n    </tr>\n    <tr>\n      <th>35</th>\n      <td>36</td>\n      <td>Ohio</td>\n      <td>198</td>\n    </tr>\n    <tr>\n      <th>36</th>\n      <td>37</td>\n      <td>Oklahoma</td>\n      <td>345</td>\n    </tr>\n    <tr>\n      <th>37</th>\n      <td>38</td>\n      <td>Oregon</td>\n      <td>741</td>\n    </tr>\n    <tr>\n      <th>38</th>\n      <td>39</td>\n      <td>Pennsylvania</td>\n      <td>188</td>\n    </tr>\n    <tr>\n      <th>39</th>\n      <td>40</td>\n      <td>Rhode Island</td>\n      <td>20</td>\n    </tr>\n    <tr>\n      <th>40</th>\n      <td>41</td>\n      <td>South Carolina</td>\n      <td>97</td>\n    </tr>\n    <tr>\n      <th>41</th>\n      <td>42</td>\n      <td>South Dakota</td>\n      <td>875</td>\n    </tr>\n    <tr>\n      <th>42</th>\n      <td>43</td>\n      <td>Tennessee</td>\n      <td>246</td>\n    </tr>\n    <tr>\n      <th>43</th>\n      <td>44</td>\n      <td>Texas</td>\n      <td>1427</td>\n    </tr>\n    <tr>\n      <th>44</th>\n      <td>45</td>\n      <td>Utah</td>\n      <td>2631</td>\n    </tr>\n    <tr>\n      <th>45</th>\n      <td>46</td>\n      <td>Vermont</td>\n      <td>24</td>\n    </tr>\n    <tr>\n      <th>46</th>\n      <td>47</td>\n      <td>Virginia</td>\n      <td>189</td>\n    </tr>\n    <tr>\n      <th>47</th>\n      <td>48</td>\n      <td>Washington</td>\n      <td>1138</td>\n    </tr>\n    <tr>\n      <th>48</th>\n      <td>49</td>\n      <td>West Virginia</td>\n      <td>33</td>\n    </tr>\n    <tr>\n      <th>49</th>\n      <td>50</td>\n      <td>Wisconsin</td>\n      <td>186</td>\n    </tr>\n  </tbody>\n</table>\n</div>"
     },
     "metadata": {},
     "output_type": "display_data"
    },
    {
     "data": {
      "text/plain": "    d_state_id d_state_name      n\n50          51      Wyoming  41806",
      "text/html": "<div>\n<style scoped>\n    .dataframe tbody tr th:only-of-type {\n        vertical-align: middle;\n    }\n\n    .dataframe tbody tr th {\n        vertical-align: top;\n    }\n\n    .dataframe thead th {\n        text-align: right;\n    }\n</style>\n<table border=\"1\" class=\"dataframe\">\n  <thead>\n    <tr style=\"text-align: right;\">\n      <th></th>\n      <th>d_state_id</th>\n      <th>d_state_name</th>\n      <th>n</th>\n    </tr>\n  </thead>\n  <tbody>\n    <tr>\n      <th>50</th>\n      <td>51</td>\n      <td>Wyoming</td>\n      <td>41806</td>\n    </tr>\n  </tbody>\n</table>\n</div>"
     },
     "metadata": {},
     "output_type": "display_data"
    }
   ],
   "source": [
    "migration_df, selection_df = migration_data(\"Wyoming\")\n",
    "display(migration_df)\n",
    "display(selection_df)"
   ],
   "metadata": {
    "collapsed": false,
    "pycharm": {
     "name": "#%%\n"
    }
   }
  },
  {
   "cell_type": "code",
   "execution_count": 88,
   "outputs": [],
   "source": [
    "def append_lat_lon(migration_df):\n",
    "    return pd.concat([migration_df, lat_lon_df], axis=1)"
   ],
   "metadata": {
    "collapsed": false,
    "pycharm": {
     "name": "#%%\n"
    }
   }
  },
  {
   "cell_type": "code",
   "execution_count": 89,
   "outputs": [
    {
     "data": {
      "text/plain": "    d_state_id    d_state_name       n           State   Latitude   Longitude\n0          1.0         Alabama    91.0         Alabama  32.318230  -86.902298\n1          2.0          Alaska   238.0          Alaska  66.160507 -153.369141\n2          3.0         Arizona   889.0         Arizona  34.048927 -111.093735\n3          4.0        Arkansas   139.0        Arkansas  34.799999  -92.199997\n4          5.0      California  1309.0      California  36.778259 -119.417931\n5          6.0        Colorado  4631.0        Colorado  39.113014 -105.358887\n6          7.0     Connecticut    44.0     Connecticut  41.599998  -72.699997\n7          8.0              DC   188.0              DC  38.907200   77.036900\n8          9.0        Delaware    17.0        Delaware  39.000000  -75.500000\n9         10.0         Florida   475.0         Florida  27.994402  -81.760254\n10        11.0         Georgia   244.0         Georgia  33.247875  -83.441162\n11        12.0          Hawaii   141.0          Hawaii  19.741755 -155.844437\n12        13.0           Idaho  1103.0           Idaho  44.068203 -114.742043\n13        14.0        Illinois   246.0        Illinois  40.000000  -89.000000\n14        15.0         Indiana   175.0         Indiana  40.273502  -86.126976\n15        16.0            Iowa   200.0            Iowa  42.032974  -93.581543\n16        17.0          Kansas   314.0          Kansas  38.500000  -98.000000\n17        18.0        Kentucky    82.0        Kentucky  37.839333  -84.270020\n18        19.0       Louisiana   139.0       Louisiana  30.391830  -92.329102\n19        20.0           Maine    35.0           Maine  45.367584  -68.972168\n20        21.0        Maryland    57.0        Maryland  39.045753  -76.641273\n21        22.0   Massachusetts    87.0   Massachusetts  42.407211  -71.382439\n22        23.0        Michigan   192.0        Michigan  44.182205  -84.506836\n23        24.0       Minnesota   316.0       Minnesota  46.392410  -94.636230\n24        25.0     Mississippi    62.0     Mississippi  33.000000  -90.000000\n25        26.0        Missouri   353.0        Missouri  38.573936  -92.603760\n26        27.0         Montana  2284.0         Montana  46.965260 -109.533691\n27        28.0        Nebraska  1179.0        Nebraska  41.500000 -100.000000\n28        29.0          Nevada   463.0          Nevada  39.876019 -117.224121\n29        30.0   New Hampshire    29.0   New Hampshire  44.000000  -71.500000\n30        31.0      New Jersey    32.0      New Jersey  39.833851  -74.871826\n31        32.0      New Mexico   302.0      New Mexico  34.307144 -106.018066\n32        33.0        New York   285.0        New York  43.000000  -75.000000\n33        34.0  North Carolina   258.0  North Carolina  35.782169  -80.793457\n34        35.0    North Dakota   626.0    North Dakota  47.650589 -100.437012\n35        36.0            Ohio   198.0            Ohio  40.367474  -82.996216\n36        37.0        Oklahoma   345.0        Oklahoma  36.084621  -96.921387\n37        38.0          Oregon   741.0          Oregon  44.000000 -120.500000\n38        39.0    Pennsylvania   188.0    Pennsylvania  41.203323  -77.194527\n39        40.0    Rhode Island    20.0    Rhode Island  41.742325  -71.742332\n40        41.0  South Carolina    97.0  South Carolina  33.836082  -81.163727\n41        42.0    South Dakota   875.0    South Dakota  44.500000 -100.000000\n42        43.0       Tennessee   246.0       Tennessee  35.860119  -86.660156\n43        44.0           Texas  1427.0           Texas  31.000000 -100.000000\n44        45.0            Utah  2631.0            Utah  39.419220 -111.950684\n45        46.0         Vermont    24.0         Vermont  44.000000  -72.699997\n46        47.0        Virginia   189.0        Virginia  37.926868  -78.024902\n47        48.0      Washington  1138.0      Washington  47.751076 -120.740135\n48        49.0   West Virginia    33.0   West Virginia  39.000000  -80.500000\n49        50.0       Wisconsin   186.0       Wisconsin  44.500000  -89.500000\n50         NaN             NaN     NaN         Wyoming  43.075970 -107.290283",
      "text/html": "<div>\n<style scoped>\n    .dataframe tbody tr th:only-of-type {\n        vertical-align: middle;\n    }\n\n    .dataframe tbody tr th {\n        vertical-align: top;\n    }\n\n    .dataframe thead th {\n        text-align: right;\n    }\n</style>\n<table border=\"1\" class=\"dataframe\">\n  <thead>\n    <tr style=\"text-align: right;\">\n      <th></th>\n      <th>d_state_id</th>\n      <th>d_state_name</th>\n      <th>n</th>\n      <th>State</th>\n      <th>Latitude</th>\n      <th>Longitude</th>\n    </tr>\n  </thead>\n  <tbody>\n    <tr>\n      <th>0</th>\n      <td>1.0</td>\n      <td>Alabama</td>\n      <td>91.0</td>\n      <td>Alabama</td>\n      <td>32.318230</td>\n      <td>-86.902298</td>\n    </tr>\n    <tr>\n      <th>1</th>\n      <td>2.0</td>\n      <td>Alaska</td>\n      <td>238.0</td>\n      <td>Alaska</td>\n      <td>66.160507</td>\n      <td>-153.369141</td>\n    </tr>\n    <tr>\n      <th>2</th>\n      <td>3.0</td>\n      <td>Arizona</td>\n      <td>889.0</td>\n      <td>Arizona</td>\n      <td>34.048927</td>\n      <td>-111.093735</td>\n    </tr>\n    <tr>\n      <th>3</th>\n      <td>4.0</td>\n      <td>Arkansas</td>\n      <td>139.0</td>\n      <td>Arkansas</td>\n      <td>34.799999</td>\n      <td>-92.199997</td>\n    </tr>\n    <tr>\n      <th>4</th>\n      <td>5.0</td>\n      <td>California</td>\n      <td>1309.0</td>\n      <td>California</td>\n      <td>36.778259</td>\n      <td>-119.417931</td>\n    </tr>\n    <tr>\n      <th>5</th>\n      <td>6.0</td>\n      <td>Colorado</td>\n      <td>4631.0</td>\n      <td>Colorado</td>\n      <td>39.113014</td>\n      <td>-105.358887</td>\n    </tr>\n    <tr>\n      <th>6</th>\n      <td>7.0</td>\n      <td>Connecticut</td>\n      <td>44.0</td>\n      <td>Connecticut</td>\n      <td>41.599998</td>\n      <td>-72.699997</td>\n    </tr>\n    <tr>\n      <th>7</th>\n      <td>8.0</td>\n      <td>DC</td>\n      <td>188.0</td>\n      <td>DC</td>\n      <td>38.907200</td>\n      <td>77.036900</td>\n    </tr>\n    <tr>\n      <th>8</th>\n      <td>9.0</td>\n      <td>Delaware</td>\n      <td>17.0</td>\n      <td>Delaware</td>\n      <td>39.000000</td>\n      <td>-75.500000</td>\n    </tr>\n    <tr>\n      <th>9</th>\n      <td>10.0</td>\n      <td>Florida</td>\n      <td>475.0</td>\n      <td>Florida</td>\n      <td>27.994402</td>\n      <td>-81.760254</td>\n    </tr>\n    <tr>\n      <th>10</th>\n      <td>11.0</td>\n      <td>Georgia</td>\n      <td>244.0</td>\n      <td>Georgia</td>\n      <td>33.247875</td>\n      <td>-83.441162</td>\n    </tr>\n    <tr>\n      <th>11</th>\n      <td>12.0</td>\n      <td>Hawaii</td>\n      <td>141.0</td>\n      <td>Hawaii</td>\n      <td>19.741755</td>\n      <td>-155.844437</td>\n    </tr>\n    <tr>\n      <th>12</th>\n      <td>13.0</td>\n      <td>Idaho</td>\n      <td>1103.0</td>\n      <td>Idaho</td>\n      <td>44.068203</td>\n      <td>-114.742043</td>\n    </tr>\n    <tr>\n      <th>13</th>\n      <td>14.0</td>\n      <td>Illinois</td>\n      <td>246.0</td>\n      <td>Illinois</td>\n      <td>40.000000</td>\n      <td>-89.000000</td>\n    </tr>\n    <tr>\n      <th>14</th>\n      <td>15.0</td>\n      <td>Indiana</td>\n      <td>175.0</td>\n      <td>Indiana</td>\n      <td>40.273502</td>\n      <td>-86.126976</td>\n    </tr>\n    <tr>\n      <th>15</th>\n      <td>16.0</td>\n      <td>Iowa</td>\n      <td>200.0</td>\n      <td>Iowa</td>\n      <td>42.032974</td>\n      <td>-93.581543</td>\n    </tr>\n    <tr>\n      <th>16</th>\n      <td>17.0</td>\n      <td>Kansas</td>\n      <td>314.0</td>\n      <td>Kansas</td>\n      <td>38.500000</td>\n      <td>-98.000000</td>\n    </tr>\n    <tr>\n      <th>17</th>\n      <td>18.0</td>\n      <td>Kentucky</td>\n      <td>82.0</td>\n      <td>Kentucky</td>\n      <td>37.839333</td>\n      <td>-84.270020</td>\n    </tr>\n    <tr>\n      <th>18</th>\n      <td>19.0</td>\n      <td>Louisiana</td>\n      <td>139.0</td>\n      <td>Louisiana</td>\n      <td>30.391830</td>\n      <td>-92.329102</td>\n    </tr>\n    <tr>\n      <th>19</th>\n      <td>20.0</td>\n      <td>Maine</td>\n      <td>35.0</td>\n      <td>Maine</td>\n      <td>45.367584</td>\n      <td>-68.972168</td>\n    </tr>\n    <tr>\n      <th>20</th>\n      <td>21.0</td>\n      <td>Maryland</td>\n      <td>57.0</td>\n      <td>Maryland</td>\n      <td>39.045753</td>\n      <td>-76.641273</td>\n    </tr>\n    <tr>\n      <th>21</th>\n      <td>22.0</td>\n      <td>Massachusetts</td>\n      <td>87.0</td>\n      <td>Massachusetts</td>\n      <td>42.407211</td>\n      <td>-71.382439</td>\n    </tr>\n    <tr>\n      <th>22</th>\n      <td>23.0</td>\n      <td>Michigan</td>\n      <td>192.0</td>\n      <td>Michigan</td>\n      <td>44.182205</td>\n      <td>-84.506836</td>\n    </tr>\n    <tr>\n      <th>23</th>\n      <td>24.0</td>\n      <td>Minnesota</td>\n      <td>316.0</td>\n      <td>Minnesota</td>\n      <td>46.392410</td>\n      <td>-94.636230</td>\n    </tr>\n    <tr>\n      <th>24</th>\n      <td>25.0</td>\n      <td>Mississippi</td>\n      <td>62.0</td>\n      <td>Mississippi</td>\n      <td>33.000000</td>\n      <td>-90.000000</td>\n    </tr>\n    <tr>\n      <th>25</th>\n      <td>26.0</td>\n      <td>Missouri</td>\n      <td>353.0</td>\n      <td>Missouri</td>\n      <td>38.573936</td>\n      <td>-92.603760</td>\n    </tr>\n    <tr>\n      <th>26</th>\n      <td>27.0</td>\n      <td>Montana</td>\n      <td>2284.0</td>\n      <td>Montana</td>\n      <td>46.965260</td>\n      <td>-109.533691</td>\n    </tr>\n    <tr>\n      <th>27</th>\n      <td>28.0</td>\n      <td>Nebraska</td>\n      <td>1179.0</td>\n      <td>Nebraska</td>\n      <td>41.500000</td>\n      <td>-100.000000</td>\n    </tr>\n    <tr>\n      <th>28</th>\n      <td>29.0</td>\n      <td>Nevada</td>\n      <td>463.0</td>\n      <td>Nevada</td>\n      <td>39.876019</td>\n      <td>-117.224121</td>\n    </tr>\n    <tr>\n      <th>29</th>\n      <td>30.0</td>\n      <td>New Hampshire</td>\n      <td>29.0</td>\n      <td>New Hampshire</td>\n      <td>44.000000</td>\n      <td>-71.500000</td>\n    </tr>\n    <tr>\n      <th>30</th>\n      <td>31.0</td>\n      <td>New Jersey</td>\n      <td>32.0</td>\n      <td>New Jersey</td>\n      <td>39.833851</td>\n      <td>-74.871826</td>\n    </tr>\n    <tr>\n      <th>31</th>\n      <td>32.0</td>\n      <td>New Mexico</td>\n      <td>302.0</td>\n      <td>New Mexico</td>\n      <td>34.307144</td>\n      <td>-106.018066</td>\n    </tr>\n    <tr>\n      <th>32</th>\n      <td>33.0</td>\n      <td>New York</td>\n      <td>285.0</td>\n      <td>New York</td>\n      <td>43.000000</td>\n      <td>-75.000000</td>\n    </tr>\n    <tr>\n      <th>33</th>\n      <td>34.0</td>\n      <td>North Carolina</td>\n      <td>258.0</td>\n      <td>North Carolina</td>\n      <td>35.782169</td>\n      <td>-80.793457</td>\n    </tr>\n    <tr>\n      <th>34</th>\n      <td>35.0</td>\n      <td>North Dakota</td>\n      <td>626.0</td>\n      <td>North Dakota</td>\n      <td>47.650589</td>\n      <td>-100.437012</td>\n    </tr>\n    <tr>\n      <th>35</th>\n      <td>36.0</td>\n      <td>Ohio</td>\n      <td>198.0</td>\n      <td>Ohio</td>\n      <td>40.367474</td>\n      <td>-82.996216</td>\n    </tr>\n    <tr>\n      <th>36</th>\n      <td>37.0</td>\n      <td>Oklahoma</td>\n      <td>345.0</td>\n      <td>Oklahoma</td>\n      <td>36.084621</td>\n      <td>-96.921387</td>\n    </tr>\n    <tr>\n      <th>37</th>\n      <td>38.0</td>\n      <td>Oregon</td>\n      <td>741.0</td>\n      <td>Oregon</td>\n      <td>44.000000</td>\n      <td>-120.500000</td>\n    </tr>\n    <tr>\n      <th>38</th>\n      <td>39.0</td>\n      <td>Pennsylvania</td>\n      <td>188.0</td>\n      <td>Pennsylvania</td>\n      <td>41.203323</td>\n      <td>-77.194527</td>\n    </tr>\n    <tr>\n      <th>39</th>\n      <td>40.0</td>\n      <td>Rhode Island</td>\n      <td>20.0</td>\n      <td>Rhode Island</td>\n      <td>41.742325</td>\n      <td>-71.742332</td>\n    </tr>\n    <tr>\n      <th>40</th>\n      <td>41.0</td>\n      <td>South Carolina</td>\n      <td>97.0</td>\n      <td>South Carolina</td>\n      <td>33.836082</td>\n      <td>-81.163727</td>\n    </tr>\n    <tr>\n      <th>41</th>\n      <td>42.0</td>\n      <td>South Dakota</td>\n      <td>875.0</td>\n      <td>South Dakota</td>\n      <td>44.500000</td>\n      <td>-100.000000</td>\n    </tr>\n    <tr>\n      <th>42</th>\n      <td>43.0</td>\n      <td>Tennessee</td>\n      <td>246.0</td>\n      <td>Tennessee</td>\n      <td>35.860119</td>\n      <td>-86.660156</td>\n    </tr>\n    <tr>\n      <th>43</th>\n      <td>44.0</td>\n      <td>Texas</td>\n      <td>1427.0</td>\n      <td>Texas</td>\n      <td>31.000000</td>\n      <td>-100.000000</td>\n    </tr>\n    <tr>\n      <th>44</th>\n      <td>45.0</td>\n      <td>Utah</td>\n      <td>2631.0</td>\n      <td>Utah</td>\n      <td>39.419220</td>\n      <td>-111.950684</td>\n    </tr>\n    <tr>\n      <th>45</th>\n      <td>46.0</td>\n      <td>Vermont</td>\n      <td>24.0</td>\n      <td>Vermont</td>\n      <td>44.000000</td>\n      <td>-72.699997</td>\n    </tr>\n    <tr>\n      <th>46</th>\n      <td>47.0</td>\n      <td>Virginia</td>\n      <td>189.0</td>\n      <td>Virginia</td>\n      <td>37.926868</td>\n      <td>-78.024902</td>\n    </tr>\n    <tr>\n      <th>47</th>\n      <td>48.0</td>\n      <td>Washington</td>\n      <td>1138.0</td>\n      <td>Washington</td>\n      <td>47.751076</td>\n      <td>-120.740135</td>\n    </tr>\n    <tr>\n      <th>48</th>\n      <td>49.0</td>\n      <td>West Virginia</td>\n      <td>33.0</td>\n      <td>West Virginia</td>\n      <td>39.000000</td>\n      <td>-80.500000</td>\n    </tr>\n    <tr>\n      <th>49</th>\n      <td>50.0</td>\n      <td>Wisconsin</td>\n      <td>186.0</td>\n      <td>Wisconsin</td>\n      <td>44.500000</td>\n      <td>-89.500000</td>\n    </tr>\n    <tr>\n      <th>50</th>\n      <td>NaN</td>\n      <td>NaN</td>\n      <td>NaN</td>\n      <td>Wyoming</td>\n      <td>43.075970</td>\n      <td>-107.290283</td>\n    </tr>\n  </tbody>\n</table>\n</div>"
     },
     "execution_count": 89,
     "metadata": {},
     "output_type": "execute_result"
    }
   ],
   "source": [
    "concat_df = append_lat_lon(migration_df)\n",
    "concat_df"
   ],
   "metadata": {
    "collapsed": false,
    "pycharm": {
     "name": "#%%\n"
    }
   }
  },
  {
   "cell_type": "code",
   "execution_count": 90,
   "outputs": [
    {
     "data": {
      "text/html": "\n<div id=\"altair-viz-30760c5ff8c64de7ac478f45e4427176\"></div>\n<script type=\"text/javascript\">\n  var VEGA_DEBUG = (typeof VEGA_DEBUG == \"undefined\") ? {} : VEGA_DEBUG;\n  (function(spec, embedOpt){\n    let outputDiv = document.currentScript.previousElementSibling;\n    if (outputDiv.id !== \"altair-viz-30760c5ff8c64de7ac478f45e4427176\") {\n      outputDiv = document.getElementById(\"altair-viz-30760c5ff8c64de7ac478f45e4427176\");\n    }\n    const paths = {\n      \"vega\": \"https://cdn.jsdelivr.net/npm//vega@5?noext\",\n      \"vega-lib\": \"https://cdn.jsdelivr.net/npm//vega-lib?noext\",\n      \"vega-lite\": \"https://cdn.jsdelivr.net/npm//vega-lite@4.17.0?noext\",\n      \"vega-embed\": \"https://cdn.jsdelivr.net/npm//vega-embed@6?noext\",\n    };\n\n    function maybeLoadScript(lib, version) {\n      var key = `${lib.replace(\"-\", \"\")}_version`;\n      return (VEGA_DEBUG[key] == version) ?\n        Promise.resolve(paths[lib]) :\n        new Promise(function(resolve, reject) {\n          var s = document.createElement('script');\n          document.getElementsByTagName(\"head\")[0].appendChild(s);\n          s.async = true;\n          s.onload = () => {\n            VEGA_DEBUG[key] = version;\n            return resolve(paths[lib]);\n          };\n          s.onerror = () => reject(`Error loading script: ${paths[lib]}`);\n          s.src = paths[lib];\n        });\n    }\n\n    function showError(err) {\n      outputDiv.innerHTML = `<div class=\"error\" style=\"color:red;\">${err}</div>`;\n      throw err;\n    }\n\n    function displayChart(vegaEmbed) {\n      vegaEmbed(outputDiv, spec, embedOpt)\n        .catch(err => showError(`Javascript Error: ${err.message}<br>This usually means there's a typo in your chart specification. See the javascript console for the full traceback.`));\n    }\n\n    if(typeof define === \"function\" && define.amd) {\n      requirejs.config({paths});\n      require([\"vega-embed\"], displayChart, err => showError(`Error loading script: ${err.message}`));\n    } else {\n      maybeLoadScript(\"vega\", \"5\")\n        .then(() => maybeLoadScript(\"vega-lite\", \"4.17.0\"))\n        .then(() => maybeLoadScript(\"vega-embed\", \"6\"))\n        .catch(showError)\n        .then(() => displayChart(vegaEmbed));\n    }\n  })({\"config\": {\"view\": {\"continuousWidth\": 400, \"continuousHeight\": 300}}, \"data\": {\"url\": \"https://cdn.jsdelivr.net/npm/vega-datasets@v1.29.0/data/us-10m.json\", \"format\": {\"feature\": \"states\", \"type\": \"topojson\"}}, \"mark\": {\"type\": \"geoshape\", \"fill\": \"lightgray\", \"stroke\": \"white\"}, \"height\": 300, \"projection\": {\"type\": \"albersUsa\"}, \"width\": 500, \"$schema\": \"https://vega.github.io/schema/vega-lite/v4.17.0.json\"}, {\"mode\": \"vega-lite\"});\n</script>",
      "text/plain": "alt.Chart(...)"
     },
     "execution_count": 90,
     "metadata": {},
     "output_type": "execute_result"
    }
   ],
   "source": [
    "# Base chart\n",
    "\n",
    "states = alt.topo_feature(data.us_10m.url, feature='states')\n",
    "base_chart = alt.Chart(states).mark_geoshape(\n",
    "                    fill='lightgray',\n",
    "                    stroke='white'\n",
    "                ).project('albersUsa').properties(\n",
    "                    width=500,\n",
    "                    height=300\n",
    "                )\n",
    "base_chart"
   ],
   "metadata": {
    "collapsed": false,
    "pycharm": {
     "name": "#%%\n"
    }
   }
  },
  {
   "cell_type": "code",
   "execution_count": 104,
   "outputs": [
    {
     "data": {
      "text/html": "\n<div id=\"altair-viz-a148b5f7a7fe4fe58c4722e460caf0c0\"></div>\n<script type=\"text/javascript\">\n  var VEGA_DEBUG = (typeof VEGA_DEBUG == \"undefined\") ? {} : VEGA_DEBUG;\n  (function(spec, embedOpt){\n    let outputDiv = document.currentScript.previousElementSibling;\n    if (outputDiv.id !== \"altair-viz-a148b5f7a7fe4fe58c4722e460caf0c0\") {\n      outputDiv = document.getElementById(\"altair-viz-a148b5f7a7fe4fe58c4722e460caf0c0\");\n    }\n    const paths = {\n      \"vega\": \"https://cdn.jsdelivr.net/npm//vega@5?noext\",\n      \"vega-lib\": \"https://cdn.jsdelivr.net/npm//vega-lib?noext\",\n      \"vega-lite\": \"https://cdn.jsdelivr.net/npm//vega-lite@4.17.0?noext\",\n      \"vega-embed\": \"https://cdn.jsdelivr.net/npm//vega-embed@6?noext\",\n    };\n\n    function maybeLoadScript(lib, version) {\n      var key = `${lib.replace(\"-\", \"\")}_version`;\n      return (VEGA_DEBUG[key] == version) ?\n        Promise.resolve(paths[lib]) :\n        new Promise(function(resolve, reject) {\n          var s = document.createElement('script');\n          document.getElementsByTagName(\"head\")[0].appendChild(s);\n          s.async = true;\n          s.onload = () => {\n            VEGA_DEBUG[key] = version;\n            return resolve(paths[lib]);\n          };\n          s.onerror = () => reject(`Error loading script: ${paths[lib]}`);\n          s.src = paths[lib];\n        });\n    }\n\n    function showError(err) {\n      outputDiv.innerHTML = `<div class=\"error\" style=\"color:red;\">${err}</div>`;\n      throw err;\n    }\n\n    function displayChart(vegaEmbed) {\n      vegaEmbed(outputDiv, spec, embedOpt)\n        .catch(err => showError(`Javascript Error: ${err.message}<br>This usually means there's a typo in your chart specification. See the javascript console for the full traceback.`));\n    }\n\n    if(typeof define === \"function\" && define.amd) {\n      requirejs.config({paths});\n      require([\"vega-embed\"], displayChart, err => showError(`Error loading script: ${err.message}`));\n    } else {\n      maybeLoadScript(\"vega\", \"5\")\n        .then(() => maybeLoadScript(\"vega-lite\", \"4.17.0\"))\n        .then(() => maybeLoadScript(\"vega-embed\", \"6\"))\n        .catch(showError)\n        .then(() => displayChart(vegaEmbed));\n    }\n  })({\"config\": {\"view\": {\"continuousWidth\": 400, \"continuousHeight\": 300}}, \"data\": {\"url\": \"https://cdn.jsdelivr.net/npm/vega-datasets@v1.29.0/data/us-10m.json\", \"format\": {\"feature\": \"states\", \"type\": \"topojson\"}}, \"mark\": \"geoshape\", \"encoding\": {\"color\": {\"field\": \"n\", \"scale\": {\"scheme\": \"#FFA07A\"}, \"type\": \"quantitative\"}, \"tooltip\": [{\"field\": \"n\", \"type\": \"quantitative\"}]}, \"height\": 300, \"projection\": {\"type\": \"albersUsa\"}, \"transform\": [{\"lookup\": \"id\", \"from\": {\"data\": {\"name\": \"data-b6a5756f440ac7cfd490a0eff516724f\"}, \"key\": \"d_state_id\", \"fields\": [\"n\"]}}], \"width\": 500, \"$schema\": \"https://vega.github.io/schema/vega-lite/v4.17.0.json\", \"datasets\": {\"data-b6a5756f440ac7cfd490a0eff516724f\": [{\"d_state_id\": 51, \"d_state_name\": \"Wyoming\", \"n\": 41806}]}}, {\"mode\": \"vega-lite\"});\n</script>",
      "text/plain": "alt.Chart(...)"
     },
     "execution_count": 104,
     "metadata": {},
     "output_type": "execute_result"
    }
   ],
   "source": [
    "states = alt.topo_feature(data.us_10m.url, feature='states')\n",
    "selection_chart = alt.Chart(states)\\\n",
    "    .mark_geoshape().encode(\n",
    "        tooltip=['n:Q'],\n",
    "        color=alt.Color('n:Q',\n",
    "              scale=alt.Scale(scheme='#FFA07A'))\n",
    "    ).transform_lookup(\n",
    "        lookup='id',\n",
    "        from_=alt.LookupData(selection_df, 'd_state_id', ['n'])\n",
    "    ).properties(\n",
    "        width=500,\n",
    "        height=300\n",
    "    ).project(\n",
    "        type='albersUsa'\n",
    "    )\n",
    "selection_chart"
   ],
   "metadata": {
    "collapsed": false,
    "pycharm": {
     "name": "#%%\n"
    }
   }
  },
  {
   "cell_type": "code",
   "execution_count": 105,
   "outputs": [
    {
     "data": {
      "text/html": "\n<div id=\"altair-viz-abb7bb18cb0b4131b0acf841aa8ff401\"></div>\n<script type=\"text/javascript\">\n  var VEGA_DEBUG = (typeof VEGA_DEBUG == \"undefined\") ? {} : VEGA_DEBUG;\n  (function(spec, embedOpt){\n    let outputDiv = document.currentScript.previousElementSibling;\n    if (outputDiv.id !== \"altair-viz-abb7bb18cb0b4131b0acf841aa8ff401\") {\n      outputDiv = document.getElementById(\"altair-viz-abb7bb18cb0b4131b0acf841aa8ff401\");\n    }\n    const paths = {\n      \"vega\": \"https://cdn.jsdelivr.net/npm//vega@5?noext\",\n      \"vega-lib\": \"https://cdn.jsdelivr.net/npm//vega-lib?noext\",\n      \"vega-lite\": \"https://cdn.jsdelivr.net/npm//vega-lite@4.17.0?noext\",\n      \"vega-embed\": \"https://cdn.jsdelivr.net/npm//vega-embed@6?noext\",\n    };\n\n    function maybeLoadScript(lib, version) {\n      var key = `${lib.replace(\"-\", \"\")}_version`;\n      return (VEGA_DEBUG[key] == version) ?\n        Promise.resolve(paths[lib]) :\n        new Promise(function(resolve, reject) {\n          var s = document.createElement('script');\n          document.getElementsByTagName(\"head\")[0].appendChild(s);\n          s.async = true;\n          s.onload = () => {\n            VEGA_DEBUG[key] = version;\n            return resolve(paths[lib]);\n          };\n          s.onerror = () => reject(`Error loading script: ${paths[lib]}`);\n          s.src = paths[lib];\n        });\n    }\n\n    function showError(err) {\n      outputDiv.innerHTML = `<div class=\"error\" style=\"color:red;\">${err}</div>`;\n      throw err;\n    }\n\n    function displayChart(vegaEmbed) {\n      vegaEmbed(outputDiv, spec, embedOpt)\n        .catch(err => showError(`Javascript Error: ${err.message}<br>This usually means there's a typo in your chart specification. See the javascript console for the full traceback.`));\n    }\n\n    if(typeof define === \"function\" && define.amd) {\n      requirejs.config({paths});\n      require([\"vega-embed\"], displayChart, err => showError(`Error loading script: ${err.message}`));\n    } else {\n      maybeLoadScript(\"vega\", \"5\")\n        .then(() => maybeLoadScript(\"vega-lite\", \"4.17.0\"))\n        .then(() => maybeLoadScript(\"vega-embed\", \"6\"))\n        .catch(showError)\n        .then(() => displayChart(vegaEmbed));\n    }\n  })({\"config\": {\"view\": {\"continuousWidth\": 400, \"continuousHeight\": 300}}, \"data\": {\"url\": \"https://cdn.jsdelivr.net/npm/vega-datasets@v1.29.0/data/us-10m.json\", \"format\": {\"feature\": \"states\", \"type\": \"topojson\"}}, \"mark\": {\"type\": \"geoshape\", \"fill\": \"#FFA07A\", \"stroke\": \"white\"}, \"encoding\": {\"color\": {\"field\": \"n\", \"title\": \"Number of people migrating\", \"type\": \"quantitative\"}, \"tooltip\": [{\"field\": \"n\", \"type\": \"quantitative\"}]}, \"height\": 300, \"projection\": {\"type\": \"albersUsa\"}, \"title\": \"Choropleth showing the number of people migrating from the selected state\", \"transform\": [{\"lookup\": \"id\", \"from\": {\"data\": {\"name\": \"data-caff636b12988e23c6d8fbd264be34da\"}, \"key\": \"d_state_id\", \"fields\": [\"n\"]}}], \"width\": 500, \"$schema\": \"https://vega.github.io/schema/vega-lite/v4.17.0.json\", \"datasets\": {\"data-caff636b12988e23c6d8fbd264be34da\": [{\"d_state_id\": 1, \"d_state_name\": \"Alabama\", \"n\": 91}, {\"d_state_id\": 2, \"d_state_name\": \"Alaska\", \"n\": 238}, {\"d_state_id\": 3, \"d_state_name\": \"Arizona\", \"n\": 889}, {\"d_state_id\": 4, \"d_state_name\": \"Arkansas\", \"n\": 139}, {\"d_state_id\": 5, \"d_state_name\": \"California\", \"n\": 1309}, {\"d_state_id\": 6, \"d_state_name\": \"Colorado\", \"n\": 4631}, {\"d_state_id\": 7, \"d_state_name\": \"Connecticut\", \"n\": 44}, {\"d_state_id\": 8, \"d_state_name\": \"DC\", \"n\": 188}, {\"d_state_id\": 9, \"d_state_name\": \"Delaware\", \"n\": 17}, {\"d_state_id\": 10, \"d_state_name\": \"Florida\", \"n\": 475}, {\"d_state_id\": 11, \"d_state_name\": \"Georgia\", \"n\": 244}, {\"d_state_id\": 12, \"d_state_name\": \"Hawaii\", \"n\": 141}, {\"d_state_id\": 13, \"d_state_name\": \"Idaho\", \"n\": 1103}, {\"d_state_id\": 14, \"d_state_name\": \"Illinois\", \"n\": 246}, {\"d_state_id\": 15, \"d_state_name\": \"Indiana\", \"n\": 175}, {\"d_state_id\": 16, \"d_state_name\": \"Iowa\", \"n\": 200}, {\"d_state_id\": 17, \"d_state_name\": \"Kansas\", \"n\": 314}, {\"d_state_id\": 18, \"d_state_name\": \"Kentucky\", \"n\": 82}, {\"d_state_id\": 19, \"d_state_name\": \"Louisiana\", \"n\": 139}, {\"d_state_id\": 20, \"d_state_name\": \"Maine\", \"n\": 35}, {\"d_state_id\": 21, \"d_state_name\": \"Maryland\", \"n\": 57}, {\"d_state_id\": 22, \"d_state_name\": \"Massachusetts\", \"n\": 87}, {\"d_state_id\": 23, \"d_state_name\": \"Michigan\", \"n\": 192}, {\"d_state_id\": 24, \"d_state_name\": \"Minnesota\", \"n\": 316}, {\"d_state_id\": 25, \"d_state_name\": \"Mississippi\", \"n\": 62}, {\"d_state_id\": 26, \"d_state_name\": \"Missouri\", \"n\": 353}, {\"d_state_id\": 27, \"d_state_name\": \"Montana\", \"n\": 2284}, {\"d_state_id\": 28, \"d_state_name\": \"Nebraska\", \"n\": 1179}, {\"d_state_id\": 29, \"d_state_name\": \"Nevada\", \"n\": 463}, {\"d_state_id\": 30, \"d_state_name\": \"New Hampshire\", \"n\": 29}, {\"d_state_id\": 31, \"d_state_name\": \"New Jersey\", \"n\": 32}, {\"d_state_id\": 32, \"d_state_name\": \"New Mexico\", \"n\": 302}, {\"d_state_id\": 33, \"d_state_name\": \"New York\", \"n\": 285}, {\"d_state_id\": 34, \"d_state_name\": \"North Carolina\", \"n\": 258}, {\"d_state_id\": 35, \"d_state_name\": \"North Dakota\", \"n\": 626}, {\"d_state_id\": 36, \"d_state_name\": \"Ohio\", \"n\": 198}, {\"d_state_id\": 37, \"d_state_name\": \"Oklahoma\", \"n\": 345}, {\"d_state_id\": 38, \"d_state_name\": \"Oregon\", \"n\": 741}, {\"d_state_id\": 39, \"d_state_name\": \"Pennsylvania\", \"n\": 188}, {\"d_state_id\": 40, \"d_state_name\": \"Rhode Island\", \"n\": 20}, {\"d_state_id\": 41, \"d_state_name\": \"South Carolina\", \"n\": 97}, {\"d_state_id\": 42, \"d_state_name\": \"South Dakota\", \"n\": 875}, {\"d_state_id\": 43, \"d_state_name\": \"Tennessee\", \"n\": 246}, {\"d_state_id\": 44, \"d_state_name\": \"Texas\", \"n\": 1427}, {\"d_state_id\": 45, \"d_state_name\": \"Utah\", \"n\": 2631}, {\"d_state_id\": 46, \"d_state_name\": \"Vermont\", \"n\": 24}, {\"d_state_id\": 47, \"d_state_name\": \"Virginia\", \"n\": 189}, {\"d_state_id\": 48, \"d_state_name\": \"Washington\", \"n\": 1138}, {\"d_state_id\": 49, \"d_state_name\": \"West Virginia\", \"n\": 33}, {\"d_state_id\": 50, \"d_state_name\": \"Wisconsin\", \"n\": 186}]}}, {\"mode\": \"vega-lite\"});\n</script>",
      "text/plain": "alt.Chart(...)"
     },
     "execution_count": 105,
     "metadata": {},
     "output_type": "execute_result"
    }
   ],
   "source": [
    "# Adding our data to the chart\n",
    "\n",
    "states = alt.topo_feature(data.us_10m.url, feature='states')\n",
    "migration_chart = alt.Chart(states, title=\"Choropleth showing the number of people migrating from the selected state\")\\\n",
    "    .mark_geoshape(\n",
    "        fill='#FFA07A',\n",
    "        stroke='white'\n",
    "    ).encode(\n",
    "            tooltip=['n:Q'],\n",
    "            color=alt.Color('n:Q',\n",
    "                 title = \"Number of people migrating\")\n",
    "        ).transform_lookup(\n",
    "            lookup='id',\n",
    "            from_=alt.LookupData(migration_df, 'd_state_id', ['n'])\n",
    "        ).properties(\n",
    "            width=500,\n",
    "            height=300\n",
    "        ).project(\n",
    "            type='albersUsa'\n",
    "        )\n",
    "\n",
    "migration_chart"
   ],
   "metadata": {
    "collapsed": false,
    "pycharm": {
     "name": "#%%\n"
    }
   }
  },
  {
   "cell_type": "code",
   "execution_count": null,
   "outputs": [],
   "source": [],
   "metadata": {
    "collapsed": false,
    "pycharm": {
     "name": "#%%\n"
    }
   }
  }
 ],
 "metadata": {
  "kernelspec": {
   "display_name": "Python 3",
   "language": "python",
   "name": "python3"
  },
  "language_info": {
   "codemirror_mode": {
    "name": "ipython",
    "version": 2
   },
   "file_extension": ".py",
   "mimetype": "text/x-python",
   "name": "python",
   "nbconvert_exporter": "python",
   "pygments_lexer": "ipython2",
   "version": "2.7.6"
  }
 },
 "nbformat": 4,
 "nbformat_minor": 0
}