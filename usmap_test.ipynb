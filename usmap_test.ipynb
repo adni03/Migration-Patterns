{
 "cells": [
  {
   "cell_type": "code",
   "execution_count": 154,
   "metadata": {
    "collapsed": true,
    "pycharm": {
     "name": "#%%\n"
    }
   },
   "outputs": [],
   "source": [
    "import altair as alt\n",
    "import pandas as pd\n",
    "import numpy as np\n",
    "\n",
    "from vega_datasets import data"
   ]
  },
  {
   "cell_type": "code",
   "execution_count": 155,
   "outputs": [
    {
     "data": {
      "text/plain": "             State   Latitude   Longitude\n0          Alabama  32.318230  -86.902298\n1           Alaska  66.160507 -153.369141\n2          Arizona  34.048927 -111.093735\n3         Arkansas  34.799999  -92.199997\n4       California  36.778259 -119.417931\n5         Colorado  39.113014 -105.358887\n6      Connecticut  41.599998  -72.699997\n7         Delaware  39.000000  -75.500000\n8          Florida  27.994402  -81.760254\n9          Georgia  33.247875  -83.441162\n10          Hawaii  19.741755 -155.844437\n11           Idaho  44.068203 -114.742043\n12        Illinois  40.000000  -89.000000\n13         Indiana  40.273502  -86.126976\n14            Iowa  42.032974  -93.581543\n15          Kansas  38.500000  -98.000000\n16        Kentucky  37.839333  -84.270020\n17       Louisiana  30.391830  -92.329102\n18           Maine  45.367584  -68.972168\n19        Maryland  39.045753  -76.641273\n20   Massachusetts  42.407211  -71.382439\n21        Michigan  44.182205  -84.506836\n22       Minnesota  46.392410  -94.636230\n23     Mississippi  33.000000  -90.000000\n24        Missouri  38.573936  -92.603760\n25         Montana  46.965260 -109.533691\n26        Nebraska  41.500000 -100.000000\n27          Nevada  39.876019 -117.224121\n28   New Hampshire  44.000000  -71.500000\n29      New Jersey  39.833851  -74.871826\n30      New Mexico  34.307144 -106.018066\n31        New York  43.000000  -75.000000\n32  North Carolina  35.782169  -80.793457\n33    North Dakota  47.650589 -100.437012\n34            Ohio  40.367474  -82.996216\n35        Oklahoma  36.084621  -96.921387\n36          Oregon  44.000000 -120.500000\n37    Pennsylvania  41.203323  -77.194527\n38    Rhode Island  41.742325  -71.742332\n39  South Carolina  33.836082  -81.163727\n40    South Dakota  44.500000 -100.000000\n41       Tennessee  35.860119  -86.660156\n42           Texas  31.000000 -100.000000\n43            Utah  39.419220 -111.950684\n44         Vermont  44.000000  -72.699997\n45        Virginia  37.926868  -78.024902\n46      Washington  47.751076 -120.740135\n47   West Virginia  39.000000  -80.500000\n48       Wisconsin  44.500000  -89.500000\n49         Wyoming  43.075970 -107.290283",
      "text/html": "<div>\n<style scoped>\n    .dataframe tbody tr th:only-of-type {\n        vertical-align: middle;\n    }\n\n    .dataframe tbody tr th {\n        vertical-align: top;\n    }\n\n    .dataframe thead th {\n        text-align: right;\n    }\n</style>\n<table border=\"1\" class=\"dataframe\">\n  <thead>\n    <tr style=\"text-align: right;\">\n      <th></th>\n      <th>State</th>\n      <th>Latitude</th>\n      <th>Longitude</th>\n    </tr>\n  </thead>\n  <tbody>\n    <tr>\n      <th>0</th>\n      <td>Alabama</td>\n      <td>32.318230</td>\n      <td>-86.902298</td>\n    </tr>\n    <tr>\n      <th>1</th>\n      <td>Alaska</td>\n      <td>66.160507</td>\n      <td>-153.369141</td>\n    </tr>\n    <tr>\n      <th>2</th>\n      <td>Arizona</td>\n      <td>34.048927</td>\n      <td>-111.093735</td>\n    </tr>\n    <tr>\n      <th>3</th>\n      <td>Arkansas</td>\n      <td>34.799999</td>\n      <td>-92.199997</td>\n    </tr>\n    <tr>\n      <th>4</th>\n      <td>California</td>\n      <td>36.778259</td>\n      <td>-119.417931</td>\n    </tr>\n    <tr>\n      <th>5</th>\n      <td>Colorado</td>\n      <td>39.113014</td>\n      <td>-105.358887</td>\n    </tr>\n    <tr>\n      <th>6</th>\n      <td>Connecticut</td>\n      <td>41.599998</td>\n      <td>-72.699997</td>\n    </tr>\n    <tr>\n      <th>7</th>\n      <td>Delaware</td>\n      <td>39.000000</td>\n      <td>-75.500000</td>\n    </tr>\n    <tr>\n      <th>8</th>\n      <td>Florida</td>\n      <td>27.994402</td>\n      <td>-81.760254</td>\n    </tr>\n    <tr>\n      <th>9</th>\n      <td>Georgia</td>\n      <td>33.247875</td>\n      <td>-83.441162</td>\n    </tr>\n    <tr>\n      <th>10</th>\n      <td>Hawaii</td>\n      <td>19.741755</td>\n      <td>-155.844437</td>\n    </tr>\n    <tr>\n      <th>11</th>\n      <td>Idaho</td>\n      <td>44.068203</td>\n      <td>-114.742043</td>\n    </tr>\n    <tr>\n      <th>12</th>\n      <td>Illinois</td>\n      <td>40.000000</td>\n      <td>-89.000000</td>\n    </tr>\n    <tr>\n      <th>13</th>\n      <td>Indiana</td>\n      <td>40.273502</td>\n      <td>-86.126976</td>\n    </tr>\n    <tr>\n      <th>14</th>\n      <td>Iowa</td>\n      <td>42.032974</td>\n      <td>-93.581543</td>\n    </tr>\n    <tr>\n      <th>15</th>\n      <td>Kansas</td>\n      <td>38.500000</td>\n      <td>-98.000000</td>\n    </tr>\n    <tr>\n      <th>16</th>\n      <td>Kentucky</td>\n      <td>37.839333</td>\n      <td>-84.270020</td>\n    </tr>\n    <tr>\n      <th>17</th>\n      <td>Louisiana</td>\n      <td>30.391830</td>\n      <td>-92.329102</td>\n    </tr>\n    <tr>\n      <th>18</th>\n      <td>Maine</td>\n      <td>45.367584</td>\n      <td>-68.972168</td>\n    </tr>\n    <tr>\n      <th>19</th>\n      <td>Maryland</td>\n      <td>39.045753</td>\n      <td>-76.641273</td>\n    </tr>\n    <tr>\n      <th>20</th>\n      <td>Massachusetts</td>\n      <td>42.407211</td>\n      <td>-71.382439</td>\n    </tr>\n    <tr>\n      <th>21</th>\n      <td>Michigan</td>\n      <td>44.182205</td>\n      <td>-84.506836</td>\n    </tr>\n    <tr>\n      <th>22</th>\n      <td>Minnesota</td>\n      <td>46.392410</td>\n      <td>-94.636230</td>\n    </tr>\n    <tr>\n      <th>23</th>\n      <td>Mississippi</td>\n      <td>33.000000</td>\n      <td>-90.000000</td>\n    </tr>\n    <tr>\n      <th>24</th>\n      <td>Missouri</td>\n      <td>38.573936</td>\n      <td>-92.603760</td>\n    </tr>\n    <tr>\n      <th>25</th>\n      <td>Montana</td>\n      <td>46.965260</td>\n      <td>-109.533691</td>\n    </tr>\n    <tr>\n      <th>26</th>\n      <td>Nebraska</td>\n      <td>41.500000</td>\n      <td>-100.000000</td>\n    </tr>\n    <tr>\n      <th>27</th>\n      <td>Nevada</td>\n      <td>39.876019</td>\n      <td>-117.224121</td>\n    </tr>\n    <tr>\n      <th>28</th>\n      <td>New Hampshire</td>\n      <td>44.000000</td>\n      <td>-71.500000</td>\n    </tr>\n    <tr>\n      <th>29</th>\n      <td>New Jersey</td>\n      <td>39.833851</td>\n      <td>-74.871826</td>\n    </tr>\n    <tr>\n      <th>30</th>\n      <td>New Mexico</td>\n      <td>34.307144</td>\n      <td>-106.018066</td>\n    </tr>\n    <tr>\n      <th>31</th>\n      <td>New York</td>\n      <td>43.000000</td>\n      <td>-75.000000</td>\n    </tr>\n    <tr>\n      <th>32</th>\n      <td>North Carolina</td>\n      <td>35.782169</td>\n      <td>-80.793457</td>\n    </tr>\n    <tr>\n      <th>33</th>\n      <td>North Dakota</td>\n      <td>47.650589</td>\n      <td>-100.437012</td>\n    </tr>\n    <tr>\n      <th>34</th>\n      <td>Ohio</td>\n      <td>40.367474</td>\n      <td>-82.996216</td>\n    </tr>\n    <tr>\n      <th>35</th>\n      <td>Oklahoma</td>\n      <td>36.084621</td>\n      <td>-96.921387</td>\n    </tr>\n    <tr>\n      <th>36</th>\n      <td>Oregon</td>\n      <td>44.000000</td>\n      <td>-120.500000</td>\n    </tr>\n    <tr>\n      <th>37</th>\n      <td>Pennsylvania</td>\n      <td>41.203323</td>\n      <td>-77.194527</td>\n    </tr>\n    <tr>\n      <th>38</th>\n      <td>Rhode Island</td>\n      <td>41.742325</td>\n      <td>-71.742332</td>\n    </tr>\n    <tr>\n      <th>39</th>\n      <td>South Carolina</td>\n      <td>33.836082</td>\n      <td>-81.163727</td>\n    </tr>\n    <tr>\n      <th>40</th>\n      <td>South Dakota</td>\n      <td>44.500000</td>\n      <td>-100.000000</td>\n    </tr>\n    <tr>\n      <th>41</th>\n      <td>Tennessee</td>\n      <td>35.860119</td>\n      <td>-86.660156</td>\n    </tr>\n    <tr>\n      <th>42</th>\n      <td>Texas</td>\n      <td>31.000000</td>\n      <td>-100.000000</td>\n    </tr>\n    <tr>\n      <th>43</th>\n      <td>Utah</td>\n      <td>39.419220</td>\n      <td>-111.950684</td>\n    </tr>\n    <tr>\n      <th>44</th>\n      <td>Vermont</td>\n      <td>44.000000</td>\n      <td>-72.699997</td>\n    </tr>\n    <tr>\n      <th>45</th>\n      <td>Virginia</td>\n      <td>37.926868</td>\n      <td>-78.024902</td>\n    </tr>\n    <tr>\n      <th>46</th>\n      <td>Washington</td>\n      <td>47.751076</td>\n      <td>-120.740135</td>\n    </tr>\n    <tr>\n      <th>47</th>\n      <td>West Virginia</td>\n      <td>39.000000</td>\n      <td>-80.500000</td>\n    </tr>\n    <tr>\n      <th>48</th>\n      <td>Wisconsin</td>\n      <td>44.500000</td>\n      <td>-89.500000</td>\n    </tr>\n    <tr>\n      <th>49</th>\n      <td>Wyoming</td>\n      <td>43.075970</td>\n      <td>-107.290283</td>\n    </tr>\n  </tbody>\n</table>\n</div>"
     },
     "execution_count": 155,
     "metadata": {},
     "output_type": "execute_result"
    }
   ],
   "source": [
    "df = pd.read_csv('state_to_state_migration.csv')\n",
    "df.drop(['Unnamed: 0'], axis=1, inplace=True)\n",
    "lat_lon_df = pd.read_csv('state_lat_lon.csv')\n",
    "lat_lon_df = lat_lon_df.sort_values(by=['State']).reset_index(drop=True)\n",
    "lat_lon_df"
   ],
   "metadata": {
    "collapsed": false,
    "pycharm": {
     "name": "#%%\n"
    }
   }
  },
  {
   "cell_type": "code",
   "execution_count": 156,
   "outputs": [],
   "source": [
    "def migration_data(source):\n",
    "    filter = (df['o_state_name'] == source)\n",
    "    migration_df = df[filter]\n",
    "    migration_df.reset_index(drop=True, inplace=True)\n",
    "\n",
    "    migration_df = migration_df.groupby(['o_state_id', 'o_state_name',\n",
    "                                         'd_state_id', 'd_state_name'])['n']\\\n",
    "                               .sum()\\\n",
    "                               .reset_index()\\\n",
    "                               .drop(['o_state_id', 'o_state_name'], axis=1)\n",
    "    selection_df = migration_df[migration_df['d_state_name'] == source]\n",
    "    migration_df = migration_df[migration_df['d_state_name'] != source]\n",
    "    return migration_df, selection_df"
   ],
   "metadata": {
    "collapsed": false,
    "pycharm": {
     "name": "#%%\n"
    }
   }
  },
  {
   "cell_type": "code",
   "execution_count": 157,
   "outputs": [
    {
     "data": {
      "text/plain": "    d_state_id    d_state_name     n\n0            1         Alabama    91\n1            2          Alaska   238\n2            4         Arizona   889\n3            5        Arkansas   139\n4            6      California  1309\n5            8        Colorado  4631\n6            9     Connecticut    44\n7           10        Delaware    17\n8           11              DC   188\n9           12         Florida   475\n10          13         Georgia   244\n11          15          Hawaii   141\n12          16           Idaho  1103\n13          17        Illinois   246\n14          18         Indiana   175\n15          19            Iowa   200\n16          20          Kansas   314\n17          21        Kentucky    82\n18          22       Louisiana   139\n19          23           Maine    35\n20          24        Maryland    57\n21          25   Massachusetts    87\n22          26        Michigan   192\n23          27       Minnesota   316\n24          28     Mississippi    62\n25          29        Missouri   353\n26          30         Montana  2284\n27          31        Nebraska  1179\n28          32          Nevada   463\n29          33   New Hampshire    29\n30          34      New Jersey    32\n31          35      New Mexico   302\n32          36        New York   285\n33          37  North Carolina   258\n34          38    North Dakota   626\n35          39            Ohio   198\n36          40        Oklahoma   345\n37          41          Oregon   741\n38          42    Pennsylvania   188\n39          44    Rhode Island    20\n40          45  South Carolina    97\n41          46    South Dakota   875\n42          47       Tennessee   246\n43          48           Texas  1427\n44          49            Utah  2631\n45          50         Vermont    24\n46          51        Virginia   189\n47          53      Washington  1138\n48          54   West Virginia    33\n49          55       Wisconsin   186",
      "text/html": "<div>\n<style scoped>\n    .dataframe tbody tr th:only-of-type {\n        vertical-align: middle;\n    }\n\n    .dataframe tbody tr th {\n        vertical-align: top;\n    }\n\n    .dataframe thead th {\n        text-align: right;\n    }\n</style>\n<table border=\"1\" class=\"dataframe\">\n  <thead>\n    <tr style=\"text-align: right;\">\n      <th></th>\n      <th>d_state_id</th>\n      <th>d_state_name</th>\n      <th>n</th>\n    </tr>\n  </thead>\n  <tbody>\n    <tr>\n      <th>0</th>\n      <td>1</td>\n      <td>Alabama</td>\n      <td>91</td>\n    </tr>\n    <tr>\n      <th>1</th>\n      <td>2</td>\n      <td>Alaska</td>\n      <td>238</td>\n    </tr>\n    <tr>\n      <th>2</th>\n      <td>4</td>\n      <td>Arizona</td>\n      <td>889</td>\n    </tr>\n    <tr>\n      <th>3</th>\n      <td>5</td>\n      <td>Arkansas</td>\n      <td>139</td>\n    </tr>\n    <tr>\n      <th>4</th>\n      <td>6</td>\n      <td>California</td>\n      <td>1309</td>\n    </tr>\n    <tr>\n      <th>5</th>\n      <td>8</td>\n      <td>Colorado</td>\n      <td>4631</td>\n    </tr>\n    <tr>\n      <th>6</th>\n      <td>9</td>\n      <td>Connecticut</td>\n      <td>44</td>\n    </tr>\n    <tr>\n      <th>7</th>\n      <td>10</td>\n      <td>Delaware</td>\n      <td>17</td>\n    </tr>\n    <tr>\n      <th>8</th>\n      <td>11</td>\n      <td>DC</td>\n      <td>188</td>\n    </tr>\n    <tr>\n      <th>9</th>\n      <td>12</td>\n      <td>Florida</td>\n      <td>475</td>\n    </tr>\n    <tr>\n      <th>10</th>\n      <td>13</td>\n      <td>Georgia</td>\n      <td>244</td>\n    </tr>\n    <tr>\n      <th>11</th>\n      <td>15</td>\n      <td>Hawaii</td>\n      <td>141</td>\n    </tr>\n    <tr>\n      <th>12</th>\n      <td>16</td>\n      <td>Idaho</td>\n      <td>1103</td>\n    </tr>\n    <tr>\n      <th>13</th>\n      <td>17</td>\n      <td>Illinois</td>\n      <td>246</td>\n    </tr>\n    <tr>\n      <th>14</th>\n      <td>18</td>\n      <td>Indiana</td>\n      <td>175</td>\n    </tr>\n    <tr>\n      <th>15</th>\n      <td>19</td>\n      <td>Iowa</td>\n      <td>200</td>\n    </tr>\n    <tr>\n      <th>16</th>\n      <td>20</td>\n      <td>Kansas</td>\n      <td>314</td>\n    </tr>\n    <tr>\n      <th>17</th>\n      <td>21</td>\n      <td>Kentucky</td>\n      <td>82</td>\n    </tr>\n    <tr>\n      <th>18</th>\n      <td>22</td>\n      <td>Louisiana</td>\n      <td>139</td>\n    </tr>\n    <tr>\n      <th>19</th>\n      <td>23</td>\n      <td>Maine</td>\n      <td>35</td>\n    </tr>\n    <tr>\n      <th>20</th>\n      <td>24</td>\n      <td>Maryland</td>\n      <td>57</td>\n    </tr>\n    <tr>\n      <th>21</th>\n      <td>25</td>\n      <td>Massachusetts</td>\n      <td>87</td>\n    </tr>\n    <tr>\n      <th>22</th>\n      <td>26</td>\n      <td>Michigan</td>\n      <td>192</td>\n    </tr>\n    <tr>\n      <th>23</th>\n      <td>27</td>\n      <td>Minnesota</td>\n      <td>316</td>\n    </tr>\n    <tr>\n      <th>24</th>\n      <td>28</td>\n      <td>Mississippi</td>\n      <td>62</td>\n    </tr>\n    <tr>\n      <th>25</th>\n      <td>29</td>\n      <td>Missouri</td>\n      <td>353</td>\n    </tr>\n    <tr>\n      <th>26</th>\n      <td>30</td>\n      <td>Montana</td>\n      <td>2284</td>\n    </tr>\n    <tr>\n      <th>27</th>\n      <td>31</td>\n      <td>Nebraska</td>\n      <td>1179</td>\n    </tr>\n    <tr>\n      <th>28</th>\n      <td>32</td>\n      <td>Nevada</td>\n      <td>463</td>\n    </tr>\n    <tr>\n      <th>29</th>\n      <td>33</td>\n      <td>New Hampshire</td>\n      <td>29</td>\n    </tr>\n    <tr>\n      <th>30</th>\n      <td>34</td>\n      <td>New Jersey</td>\n      <td>32</td>\n    </tr>\n    <tr>\n      <th>31</th>\n      <td>35</td>\n      <td>New Mexico</td>\n      <td>302</td>\n    </tr>\n    <tr>\n      <th>32</th>\n      <td>36</td>\n      <td>New York</td>\n      <td>285</td>\n    </tr>\n    <tr>\n      <th>33</th>\n      <td>37</td>\n      <td>North Carolina</td>\n      <td>258</td>\n    </tr>\n    <tr>\n      <th>34</th>\n      <td>38</td>\n      <td>North Dakota</td>\n      <td>626</td>\n    </tr>\n    <tr>\n      <th>35</th>\n      <td>39</td>\n      <td>Ohio</td>\n      <td>198</td>\n    </tr>\n    <tr>\n      <th>36</th>\n      <td>40</td>\n      <td>Oklahoma</td>\n      <td>345</td>\n    </tr>\n    <tr>\n      <th>37</th>\n      <td>41</td>\n      <td>Oregon</td>\n      <td>741</td>\n    </tr>\n    <tr>\n      <th>38</th>\n      <td>42</td>\n      <td>Pennsylvania</td>\n      <td>188</td>\n    </tr>\n    <tr>\n      <th>39</th>\n      <td>44</td>\n      <td>Rhode Island</td>\n      <td>20</td>\n    </tr>\n    <tr>\n      <th>40</th>\n      <td>45</td>\n      <td>South Carolina</td>\n      <td>97</td>\n    </tr>\n    <tr>\n      <th>41</th>\n      <td>46</td>\n      <td>South Dakota</td>\n      <td>875</td>\n    </tr>\n    <tr>\n      <th>42</th>\n      <td>47</td>\n      <td>Tennessee</td>\n      <td>246</td>\n    </tr>\n    <tr>\n      <th>43</th>\n      <td>48</td>\n      <td>Texas</td>\n      <td>1427</td>\n    </tr>\n    <tr>\n      <th>44</th>\n      <td>49</td>\n      <td>Utah</td>\n      <td>2631</td>\n    </tr>\n    <tr>\n      <th>45</th>\n      <td>50</td>\n      <td>Vermont</td>\n      <td>24</td>\n    </tr>\n    <tr>\n      <th>46</th>\n      <td>51</td>\n      <td>Virginia</td>\n      <td>189</td>\n    </tr>\n    <tr>\n      <th>47</th>\n      <td>53</td>\n      <td>Washington</td>\n      <td>1138</td>\n    </tr>\n    <tr>\n      <th>48</th>\n      <td>54</td>\n      <td>West Virginia</td>\n      <td>33</td>\n    </tr>\n    <tr>\n      <th>49</th>\n      <td>55</td>\n      <td>Wisconsin</td>\n      <td>186</td>\n    </tr>\n  </tbody>\n</table>\n</div>"
     },
     "metadata": {},
     "output_type": "display_data"
    },
    {
     "data": {
      "text/plain": "    d_state_id d_state_name      n\n50          56      Wyoming  41806",
      "text/html": "<div>\n<style scoped>\n    .dataframe tbody tr th:only-of-type {\n        vertical-align: middle;\n    }\n\n    .dataframe tbody tr th {\n        vertical-align: top;\n    }\n\n    .dataframe thead th {\n        text-align: right;\n    }\n</style>\n<table border=\"1\" class=\"dataframe\">\n  <thead>\n    <tr style=\"text-align: right;\">\n      <th></th>\n      <th>d_state_id</th>\n      <th>d_state_name</th>\n      <th>n</th>\n    </tr>\n  </thead>\n  <tbody>\n    <tr>\n      <th>50</th>\n      <td>56</td>\n      <td>Wyoming</td>\n      <td>41806</td>\n    </tr>\n  </tbody>\n</table>\n</div>"
     },
     "metadata": {},
     "output_type": "display_data"
    }
   ],
   "source": [
    "migration_df, selection_df = migration_data(\"Wyoming\")\n",
    "display(migration_df)\n",
    "display(selection_df)"
   ],
   "metadata": {
    "collapsed": false,
    "pycharm": {
     "name": "#%%\n"
    }
   }
  },
  {
   "cell_type": "code",
   "execution_count": 158,
   "outputs": [],
   "source": [
    "def append_lat_lon(migration_df):\n",
    "    return pd.concat([migration_df, lat_lon_df], axis=1)"
   ],
   "metadata": {
    "collapsed": false,
    "pycharm": {
     "name": "#%%\n"
    }
   }
  },
  {
   "cell_type": "code",
   "execution_count": 159,
   "outputs": [
    {
     "data": {
      "text/plain": "    d_state_id    d_state_name     n           State   Latitude   Longitude\n0            1         Alabama    91         Alabama  32.318230  -86.902298\n1            2          Alaska   238          Alaska  66.160507 -153.369141\n2            4         Arizona   889         Arizona  34.048927 -111.093735\n3            5        Arkansas   139        Arkansas  34.799999  -92.199997\n4            6      California  1309      California  36.778259 -119.417931\n5            8        Colorado  4631        Colorado  39.113014 -105.358887\n6            9     Connecticut    44     Connecticut  41.599998  -72.699997\n7           10        Delaware    17        Delaware  39.000000  -75.500000\n8           11              DC   188         Florida  27.994402  -81.760254\n9           12         Florida   475         Georgia  33.247875  -83.441162\n10          13         Georgia   244          Hawaii  19.741755 -155.844437\n11          15          Hawaii   141           Idaho  44.068203 -114.742043\n12          16           Idaho  1103        Illinois  40.000000  -89.000000\n13          17        Illinois   246         Indiana  40.273502  -86.126976\n14          18         Indiana   175            Iowa  42.032974  -93.581543\n15          19            Iowa   200          Kansas  38.500000  -98.000000\n16          20          Kansas   314        Kentucky  37.839333  -84.270020\n17          21        Kentucky    82       Louisiana  30.391830  -92.329102\n18          22       Louisiana   139           Maine  45.367584  -68.972168\n19          23           Maine    35        Maryland  39.045753  -76.641273\n20          24        Maryland    57   Massachusetts  42.407211  -71.382439\n21          25   Massachusetts    87        Michigan  44.182205  -84.506836\n22          26        Michigan   192       Minnesota  46.392410  -94.636230\n23          27       Minnesota   316     Mississippi  33.000000  -90.000000\n24          28     Mississippi    62        Missouri  38.573936  -92.603760\n25          29        Missouri   353         Montana  46.965260 -109.533691\n26          30         Montana  2284        Nebraska  41.500000 -100.000000\n27          31        Nebraska  1179          Nevada  39.876019 -117.224121\n28          32          Nevada   463   New Hampshire  44.000000  -71.500000\n29          33   New Hampshire    29      New Jersey  39.833851  -74.871826\n30          34      New Jersey    32      New Mexico  34.307144 -106.018066\n31          35      New Mexico   302        New York  43.000000  -75.000000\n32          36        New York   285  North Carolina  35.782169  -80.793457\n33          37  North Carolina   258    North Dakota  47.650589 -100.437012\n34          38    North Dakota   626            Ohio  40.367474  -82.996216\n35          39            Ohio   198        Oklahoma  36.084621  -96.921387\n36          40        Oklahoma   345          Oregon  44.000000 -120.500000\n37          41          Oregon   741    Pennsylvania  41.203323  -77.194527\n38          42    Pennsylvania   188    Rhode Island  41.742325  -71.742332\n39          44    Rhode Island    20  South Carolina  33.836082  -81.163727\n40          45  South Carolina    97    South Dakota  44.500000 -100.000000\n41          46    South Dakota   875       Tennessee  35.860119  -86.660156\n42          47       Tennessee   246           Texas  31.000000 -100.000000\n43          48           Texas  1427            Utah  39.419220 -111.950684\n44          49            Utah  2631         Vermont  44.000000  -72.699997\n45          50         Vermont    24        Virginia  37.926868  -78.024902\n46          51        Virginia   189      Washington  47.751076 -120.740135\n47          53      Washington  1138   West Virginia  39.000000  -80.500000\n48          54   West Virginia    33       Wisconsin  44.500000  -89.500000\n49          55       Wisconsin   186         Wyoming  43.075970 -107.290283",
      "text/html": "<div>\n<style scoped>\n    .dataframe tbody tr th:only-of-type {\n        vertical-align: middle;\n    }\n\n    .dataframe tbody tr th {\n        vertical-align: top;\n    }\n\n    .dataframe thead th {\n        text-align: right;\n    }\n</style>\n<table border=\"1\" class=\"dataframe\">\n  <thead>\n    <tr style=\"text-align: right;\">\n      <th></th>\n      <th>d_state_id</th>\n      <th>d_state_name</th>\n      <th>n</th>\n      <th>State</th>\n      <th>Latitude</th>\n      <th>Longitude</th>\n    </tr>\n  </thead>\n  <tbody>\n    <tr>\n      <th>0</th>\n      <td>1</td>\n      <td>Alabama</td>\n      <td>91</td>\n      <td>Alabama</td>\n      <td>32.318230</td>\n      <td>-86.902298</td>\n    </tr>\n    <tr>\n      <th>1</th>\n      <td>2</td>\n      <td>Alaska</td>\n      <td>238</td>\n      <td>Alaska</td>\n      <td>66.160507</td>\n      <td>-153.369141</td>\n    </tr>\n    <tr>\n      <th>2</th>\n      <td>4</td>\n      <td>Arizona</td>\n      <td>889</td>\n      <td>Arizona</td>\n      <td>34.048927</td>\n      <td>-111.093735</td>\n    </tr>\n    <tr>\n      <th>3</th>\n      <td>5</td>\n      <td>Arkansas</td>\n      <td>139</td>\n      <td>Arkansas</td>\n      <td>34.799999</td>\n      <td>-92.199997</td>\n    </tr>\n    <tr>\n      <th>4</th>\n      <td>6</td>\n      <td>California</td>\n      <td>1309</td>\n      <td>California</td>\n      <td>36.778259</td>\n      <td>-119.417931</td>\n    </tr>\n    <tr>\n      <th>5</th>\n      <td>8</td>\n      <td>Colorado</td>\n      <td>4631</td>\n      <td>Colorado</td>\n      <td>39.113014</td>\n      <td>-105.358887</td>\n    </tr>\n    <tr>\n      <th>6</th>\n      <td>9</td>\n      <td>Connecticut</td>\n      <td>44</td>\n      <td>Connecticut</td>\n      <td>41.599998</td>\n      <td>-72.699997</td>\n    </tr>\n    <tr>\n      <th>7</th>\n      <td>10</td>\n      <td>Delaware</td>\n      <td>17</td>\n      <td>Delaware</td>\n      <td>39.000000</td>\n      <td>-75.500000</td>\n    </tr>\n    <tr>\n      <th>8</th>\n      <td>11</td>\n      <td>DC</td>\n      <td>188</td>\n      <td>Florida</td>\n      <td>27.994402</td>\n      <td>-81.760254</td>\n    </tr>\n    <tr>\n      <th>9</th>\n      <td>12</td>\n      <td>Florida</td>\n      <td>475</td>\n      <td>Georgia</td>\n      <td>33.247875</td>\n      <td>-83.441162</td>\n    </tr>\n    <tr>\n      <th>10</th>\n      <td>13</td>\n      <td>Georgia</td>\n      <td>244</td>\n      <td>Hawaii</td>\n      <td>19.741755</td>\n      <td>-155.844437</td>\n    </tr>\n    <tr>\n      <th>11</th>\n      <td>15</td>\n      <td>Hawaii</td>\n      <td>141</td>\n      <td>Idaho</td>\n      <td>44.068203</td>\n      <td>-114.742043</td>\n    </tr>\n    <tr>\n      <th>12</th>\n      <td>16</td>\n      <td>Idaho</td>\n      <td>1103</td>\n      <td>Illinois</td>\n      <td>40.000000</td>\n      <td>-89.000000</td>\n    </tr>\n    <tr>\n      <th>13</th>\n      <td>17</td>\n      <td>Illinois</td>\n      <td>246</td>\n      <td>Indiana</td>\n      <td>40.273502</td>\n      <td>-86.126976</td>\n    </tr>\n    <tr>\n      <th>14</th>\n      <td>18</td>\n      <td>Indiana</td>\n      <td>175</td>\n      <td>Iowa</td>\n      <td>42.032974</td>\n      <td>-93.581543</td>\n    </tr>\n    <tr>\n      <th>15</th>\n      <td>19</td>\n      <td>Iowa</td>\n      <td>200</td>\n      <td>Kansas</td>\n      <td>38.500000</td>\n      <td>-98.000000</td>\n    </tr>\n    <tr>\n      <th>16</th>\n      <td>20</td>\n      <td>Kansas</td>\n      <td>314</td>\n      <td>Kentucky</td>\n      <td>37.839333</td>\n      <td>-84.270020</td>\n    </tr>\n    <tr>\n      <th>17</th>\n      <td>21</td>\n      <td>Kentucky</td>\n      <td>82</td>\n      <td>Louisiana</td>\n      <td>30.391830</td>\n      <td>-92.329102</td>\n    </tr>\n    <tr>\n      <th>18</th>\n      <td>22</td>\n      <td>Louisiana</td>\n      <td>139</td>\n      <td>Maine</td>\n      <td>45.367584</td>\n      <td>-68.972168</td>\n    </tr>\n    <tr>\n      <th>19</th>\n      <td>23</td>\n      <td>Maine</td>\n      <td>35</td>\n      <td>Maryland</td>\n      <td>39.045753</td>\n      <td>-76.641273</td>\n    </tr>\n    <tr>\n      <th>20</th>\n      <td>24</td>\n      <td>Maryland</td>\n      <td>57</td>\n      <td>Massachusetts</td>\n      <td>42.407211</td>\n      <td>-71.382439</td>\n    </tr>\n    <tr>\n      <th>21</th>\n      <td>25</td>\n      <td>Massachusetts</td>\n      <td>87</td>\n      <td>Michigan</td>\n      <td>44.182205</td>\n      <td>-84.506836</td>\n    </tr>\n    <tr>\n      <th>22</th>\n      <td>26</td>\n      <td>Michigan</td>\n      <td>192</td>\n      <td>Minnesota</td>\n      <td>46.392410</td>\n      <td>-94.636230</td>\n    </tr>\n    <tr>\n      <th>23</th>\n      <td>27</td>\n      <td>Minnesota</td>\n      <td>316</td>\n      <td>Mississippi</td>\n      <td>33.000000</td>\n      <td>-90.000000</td>\n    </tr>\n    <tr>\n      <th>24</th>\n      <td>28</td>\n      <td>Mississippi</td>\n      <td>62</td>\n      <td>Missouri</td>\n      <td>38.573936</td>\n      <td>-92.603760</td>\n    </tr>\n    <tr>\n      <th>25</th>\n      <td>29</td>\n      <td>Missouri</td>\n      <td>353</td>\n      <td>Montana</td>\n      <td>46.965260</td>\n      <td>-109.533691</td>\n    </tr>\n    <tr>\n      <th>26</th>\n      <td>30</td>\n      <td>Montana</td>\n      <td>2284</td>\n      <td>Nebraska</td>\n      <td>41.500000</td>\n      <td>-100.000000</td>\n    </tr>\n    <tr>\n      <th>27</th>\n      <td>31</td>\n      <td>Nebraska</td>\n      <td>1179</td>\n      <td>Nevada</td>\n      <td>39.876019</td>\n      <td>-117.224121</td>\n    </tr>\n    <tr>\n      <th>28</th>\n      <td>32</td>\n      <td>Nevada</td>\n      <td>463</td>\n      <td>New Hampshire</td>\n      <td>44.000000</td>\n      <td>-71.500000</td>\n    </tr>\n    <tr>\n      <th>29</th>\n      <td>33</td>\n      <td>New Hampshire</td>\n      <td>29</td>\n      <td>New Jersey</td>\n      <td>39.833851</td>\n      <td>-74.871826</td>\n    </tr>\n    <tr>\n      <th>30</th>\n      <td>34</td>\n      <td>New Jersey</td>\n      <td>32</td>\n      <td>New Mexico</td>\n      <td>34.307144</td>\n      <td>-106.018066</td>\n    </tr>\n    <tr>\n      <th>31</th>\n      <td>35</td>\n      <td>New Mexico</td>\n      <td>302</td>\n      <td>New York</td>\n      <td>43.000000</td>\n      <td>-75.000000</td>\n    </tr>\n    <tr>\n      <th>32</th>\n      <td>36</td>\n      <td>New York</td>\n      <td>285</td>\n      <td>North Carolina</td>\n      <td>35.782169</td>\n      <td>-80.793457</td>\n    </tr>\n    <tr>\n      <th>33</th>\n      <td>37</td>\n      <td>North Carolina</td>\n      <td>258</td>\n      <td>North Dakota</td>\n      <td>47.650589</td>\n      <td>-100.437012</td>\n    </tr>\n    <tr>\n      <th>34</th>\n      <td>38</td>\n      <td>North Dakota</td>\n      <td>626</td>\n      <td>Ohio</td>\n      <td>40.367474</td>\n      <td>-82.996216</td>\n    </tr>\n    <tr>\n      <th>35</th>\n      <td>39</td>\n      <td>Ohio</td>\n      <td>198</td>\n      <td>Oklahoma</td>\n      <td>36.084621</td>\n      <td>-96.921387</td>\n    </tr>\n    <tr>\n      <th>36</th>\n      <td>40</td>\n      <td>Oklahoma</td>\n      <td>345</td>\n      <td>Oregon</td>\n      <td>44.000000</td>\n      <td>-120.500000</td>\n    </tr>\n    <tr>\n      <th>37</th>\n      <td>41</td>\n      <td>Oregon</td>\n      <td>741</td>\n      <td>Pennsylvania</td>\n      <td>41.203323</td>\n      <td>-77.194527</td>\n    </tr>\n    <tr>\n      <th>38</th>\n      <td>42</td>\n      <td>Pennsylvania</td>\n      <td>188</td>\n      <td>Rhode Island</td>\n      <td>41.742325</td>\n      <td>-71.742332</td>\n    </tr>\n    <tr>\n      <th>39</th>\n      <td>44</td>\n      <td>Rhode Island</td>\n      <td>20</td>\n      <td>South Carolina</td>\n      <td>33.836082</td>\n      <td>-81.163727</td>\n    </tr>\n    <tr>\n      <th>40</th>\n      <td>45</td>\n      <td>South Carolina</td>\n      <td>97</td>\n      <td>South Dakota</td>\n      <td>44.500000</td>\n      <td>-100.000000</td>\n    </tr>\n    <tr>\n      <th>41</th>\n      <td>46</td>\n      <td>South Dakota</td>\n      <td>875</td>\n      <td>Tennessee</td>\n      <td>35.860119</td>\n      <td>-86.660156</td>\n    </tr>\n    <tr>\n      <th>42</th>\n      <td>47</td>\n      <td>Tennessee</td>\n      <td>246</td>\n      <td>Texas</td>\n      <td>31.000000</td>\n      <td>-100.000000</td>\n    </tr>\n    <tr>\n      <th>43</th>\n      <td>48</td>\n      <td>Texas</td>\n      <td>1427</td>\n      <td>Utah</td>\n      <td>39.419220</td>\n      <td>-111.950684</td>\n    </tr>\n    <tr>\n      <th>44</th>\n      <td>49</td>\n      <td>Utah</td>\n      <td>2631</td>\n      <td>Vermont</td>\n      <td>44.000000</td>\n      <td>-72.699997</td>\n    </tr>\n    <tr>\n      <th>45</th>\n      <td>50</td>\n      <td>Vermont</td>\n      <td>24</td>\n      <td>Virginia</td>\n      <td>37.926868</td>\n      <td>-78.024902</td>\n    </tr>\n    <tr>\n      <th>46</th>\n      <td>51</td>\n      <td>Virginia</td>\n      <td>189</td>\n      <td>Washington</td>\n      <td>47.751076</td>\n      <td>-120.740135</td>\n    </tr>\n    <tr>\n      <th>47</th>\n      <td>53</td>\n      <td>Washington</td>\n      <td>1138</td>\n      <td>West Virginia</td>\n      <td>39.000000</td>\n      <td>-80.500000</td>\n    </tr>\n    <tr>\n      <th>48</th>\n      <td>54</td>\n      <td>West Virginia</td>\n      <td>33</td>\n      <td>Wisconsin</td>\n      <td>44.500000</td>\n      <td>-89.500000</td>\n    </tr>\n    <tr>\n      <th>49</th>\n      <td>55</td>\n      <td>Wisconsin</td>\n      <td>186</td>\n      <td>Wyoming</td>\n      <td>43.075970</td>\n      <td>-107.290283</td>\n    </tr>\n  </tbody>\n</table>\n</div>"
     },
     "execution_count": 159,
     "metadata": {},
     "output_type": "execute_result"
    }
   ],
   "source": [
    "concat_df = append_lat_lon(migration_df)\n",
    "concat_df"
   ],
   "metadata": {
    "collapsed": false,
    "pycharm": {
     "name": "#%%\n"
    }
   }
  },
  {
   "cell_type": "code",
   "execution_count": 160,
   "outputs": [
    {
     "data": {
      "text/html": "\n<div id=\"altair-viz-03090627cd604824a23c09daf95dc35d\"></div>\n<script type=\"text/javascript\">\n  var VEGA_DEBUG = (typeof VEGA_DEBUG == \"undefined\") ? {} : VEGA_DEBUG;\n  (function(spec, embedOpt){\n    let outputDiv = document.currentScript.previousElementSibling;\n    if (outputDiv.id !== \"altair-viz-03090627cd604824a23c09daf95dc35d\") {\n      outputDiv = document.getElementById(\"altair-viz-03090627cd604824a23c09daf95dc35d\");\n    }\n    const paths = {\n      \"vega\": \"https://cdn.jsdelivr.net/npm//vega@5?noext\",\n      \"vega-lib\": \"https://cdn.jsdelivr.net/npm//vega-lib?noext\",\n      \"vega-lite\": \"https://cdn.jsdelivr.net/npm//vega-lite@4.17.0?noext\",\n      \"vega-embed\": \"https://cdn.jsdelivr.net/npm//vega-embed@6?noext\",\n    };\n\n    function maybeLoadScript(lib, version) {\n      var key = `${lib.replace(\"-\", \"\")}_version`;\n      return (VEGA_DEBUG[key] == version) ?\n        Promise.resolve(paths[lib]) :\n        new Promise(function(resolve, reject) {\n          var s = document.createElement('script');\n          document.getElementsByTagName(\"head\")[0].appendChild(s);\n          s.async = true;\n          s.onload = () => {\n            VEGA_DEBUG[key] = version;\n            return resolve(paths[lib]);\n          };\n          s.onerror = () => reject(`Error loading script: ${paths[lib]}`);\n          s.src = paths[lib];\n        });\n    }\n\n    function showError(err) {\n      outputDiv.innerHTML = `<div class=\"error\" style=\"color:red;\">${err}</div>`;\n      throw err;\n    }\n\n    function displayChart(vegaEmbed) {\n      vegaEmbed(outputDiv, spec, embedOpt)\n        .catch(err => showError(`Javascript Error: ${err.message}<br>This usually means there's a typo in your chart specification. See the javascript console for the full traceback.`));\n    }\n\n    if(typeof define === \"function\" && define.amd) {\n      requirejs.config({paths});\n      require([\"vega-embed\"], displayChart, err => showError(`Error loading script: ${err.message}`));\n    } else {\n      maybeLoadScript(\"vega\", \"5\")\n        .then(() => maybeLoadScript(\"vega-lite\", \"4.17.0\"))\n        .then(() => maybeLoadScript(\"vega-embed\", \"6\"))\n        .catch(showError)\n        .then(() => displayChart(vegaEmbed));\n    }\n  })({\"config\": {\"view\": {\"continuousWidth\": 400, \"continuousHeight\": 300}}, \"data\": {\"url\": \"https://cdn.jsdelivr.net/npm/vega-datasets@v1.29.0/data/us-10m.json\", \"format\": {\"feature\": \"states\", \"type\": \"topojson\"}}, \"mark\": {\"type\": \"geoshape\", \"fill\": \"lightgray\", \"stroke\": \"white\"}, \"height\": 300, \"projection\": {\"type\": \"albersUsa\"}, \"width\": 500, \"$schema\": \"https://vega.github.io/schema/vega-lite/v4.17.0.json\"}, {\"mode\": \"vega-lite\"});\n</script>",
      "text/plain": "alt.Chart(...)"
     },
     "execution_count": 160,
     "metadata": {},
     "output_type": "execute_result"
    }
   ],
   "source": [
    "# Base chart\n",
    "\n",
    "states = alt.topo_feature(data.us_10m.url, feature='states')\n",
    "base_chart = alt.Chart(states).mark_geoshape(\n",
    "                    fill='lightgray',\n",
    "                    stroke='white'\n",
    "                ).project('albersUsa').properties(\n",
    "                    width=500,\n",
    "                    height=300\n",
    "                )\n",
    "base_chart"
   ],
   "metadata": {
    "collapsed": false,
    "pycharm": {
     "name": "#%%\n"
    }
   }
  },
  {
   "cell_type": "code",
   "execution_count": 174,
   "outputs": [
    {
     "data": {
      "text/html": "\n<div id=\"altair-viz-fba25ce42dc245798f97fb2087f3f9a1\"></div>\n<script type=\"text/javascript\">\n  var VEGA_DEBUG = (typeof VEGA_DEBUG == \"undefined\") ? {} : VEGA_DEBUG;\n  (function(spec, embedOpt){\n    let outputDiv = document.currentScript.previousElementSibling;\n    if (outputDiv.id !== \"altair-viz-fba25ce42dc245798f97fb2087f3f9a1\") {\n      outputDiv = document.getElementById(\"altair-viz-fba25ce42dc245798f97fb2087f3f9a1\");\n    }\n    const paths = {\n      \"vega\": \"https://cdn.jsdelivr.net/npm//vega@5?noext\",\n      \"vega-lib\": \"https://cdn.jsdelivr.net/npm//vega-lib?noext\",\n      \"vega-lite\": \"https://cdn.jsdelivr.net/npm//vega-lite@4.17.0?noext\",\n      \"vega-embed\": \"https://cdn.jsdelivr.net/npm//vega-embed@6?noext\",\n    };\n\n    function maybeLoadScript(lib, version) {\n      var key = `${lib.replace(\"-\", \"\")}_version`;\n      return (VEGA_DEBUG[key] == version) ?\n        Promise.resolve(paths[lib]) :\n        new Promise(function(resolve, reject) {\n          var s = document.createElement('script');\n          document.getElementsByTagName(\"head\")[0].appendChild(s);\n          s.async = true;\n          s.onload = () => {\n            VEGA_DEBUG[key] = version;\n            return resolve(paths[lib]);\n          };\n          s.onerror = () => reject(`Error loading script: ${paths[lib]}`);\n          s.src = paths[lib];\n        });\n    }\n\n    function showError(err) {\n      outputDiv.innerHTML = `<div class=\"error\" style=\"color:red;\">${err}</div>`;\n      throw err;\n    }\n\n    function displayChart(vegaEmbed) {\n      vegaEmbed(outputDiv, spec, embedOpt)\n        .catch(err => showError(`Javascript Error: ${err.message}<br>This usually means there's a typo in your chart specification. See the javascript console for the full traceback.`));\n    }\n\n    if(typeof define === \"function\" && define.amd) {\n      requirejs.config({paths});\n      require([\"vega-embed\"], displayChart, err => showError(`Error loading script: ${err.message}`));\n    } else {\n      maybeLoadScript(\"vega\", \"5\")\n        .then(() => maybeLoadScript(\"vega-lite\", \"4.17.0\"))\n        .then(() => maybeLoadScript(\"vega-embed\", \"6\"))\n        .catch(showError)\n        .then(() => displayChart(vegaEmbed));\n    }\n  })({\"config\": {\"view\": {\"continuousWidth\": 400, \"continuousHeight\": 300}}, \"layer\": [{\"data\": {\"url\": \"https://cdn.jsdelivr.net/npm/vega-datasets@v1.29.0/data/us-10m.json\", \"format\": {\"feature\": \"states\", \"type\": \"topojson\"}}, \"mark\": {\"type\": \"geoshape\", \"fill\": \"lightgray\", \"stroke\": \"white\"}, \"height\": 300, \"projection\": {\"type\": \"albersUsa\"}, \"width\": 500}, {\"data\": {\"url\": \"https://cdn.jsdelivr.net/npm/vega-datasets@v1.29.0/data/us-10m.json\", \"format\": {\"feature\": \"states\", \"type\": \"topojson\"}}, \"mark\": \"geoshape\", \"encoding\": {\"color\": {\"field\": \"n\", \"legend\": null, \"scale\": {\"scheme\": \"yelloworangered\"}, \"type\": \"quantitative\"}, \"tooltip\": [{\"field\": \"n\", \"title\": \"Population staying back\", \"type\": \"quantitative\"}]}, \"height\": 300, \"projection\": {\"type\": \"albersUsa\"}, \"transform\": [{\"lookup\": \"id\", \"from\": {\"data\": {\"name\": \"data-33343ad1836ae54b160937ce34eb3f75\"}, \"key\": \"d_state_id\", \"fields\": [\"n\"]}}], \"width\": 500}], \"$schema\": \"https://vega.github.io/schema/vega-lite/v4.17.0.json\", \"datasets\": {\"data-33343ad1836ae54b160937ce34eb3f75\": [{\"d_state_id\": 56, \"d_state_name\": \"Wyoming\", \"n\": 41806}]}}, {\"mode\": \"vega-lite\"});\n</script>",
      "text/plain": "alt.LayerChart(...)"
     },
     "execution_count": 174,
     "metadata": {},
     "output_type": "execute_result"
    }
   ],
   "source": [
    "states = alt.topo_feature(data.us_10m.url, feature='states')\n",
    "selection_chart = alt.Chart(states)\\\n",
    "    .mark_geoshape().encode(\n",
    "        tooltip=[alt.Tooltip('n:Q', title='Population staying back')],\n",
    "        color=alt.Color('n:Q', scale=alt.Scale(scheme=\"yelloworangered\"), legend=None)\n",
    "    ).transform_lookup(\n",
    "        lookup='id',\n",
    "        from_=alt.LookupData(selection_df, 'd_state_id', ['n'])\n",
    "    ).properties(\n",
    "        width=500,\n",
    "        height=300\n",
    "    ).project(\n",
    "        type='albersUsa'\n",
    "    )\n",
    "base_chart + selection_chart"
   ],
   "metadata": {
    "collapsed": false,
    "pycharm": {
     "name": "#%%\n"
    }
   }
  },
  {
   "cell_type": "code",
   "execution_count": 178,
   "outputs": [
    {
     "data": {
      "text/html": "\n<div id=\"altair-viz-dafaa362e4c043ad9fcb76f3609c1351\"></div>\n<script type=\"text/javascript\">\n  var VEGA_DEBUG = (typeof VEGA_DEBUG == \"undefined\") ? {} : VEGA_DEBUG;\n  (function(spec, embedOpt){\n    let outputDiv = document.currentScript.previousElementSibling;\n    if (outputDiv.id !== \"altair-viz-dafaa362e4c043ad9fcb76f3609c1351\") {\n      outputDiv = document.getElementById(\"altair-viz-dafaa362e4c043ad9fcb76f3609c1351\");\n    }\n    const paths = {\n      \"vega\": \"https://cdn.jsdelivr.net/npm//vega@5?noext\",\n      \"vega-lib\": \"https://cdn.jsdelivr.net/npm//vega-lib?noext\",\n      \"vega-lite\": \"https://cdn.jsdelivr.net/npm//vega-lite@4.17.0?noext\",\n      \"vega-embed\": \"https://cdn.jsdelivr.net/npm//vega-embed@6?noext\",\n    };\n\n    function maybeLoadScript(lib, version) {\n      var key = `${lib.replace(\"-\", \"\")}_version`;\n      return (VEGA_DEBUG[key] == version) ?\n        Promise.resolve(paths[lib]) :\n        new Promise(function(resolve, reject) {\n          var s = document.createElement('script');\n          document.getElementsByTagName(\"head\")[0].appendChild(s);\n          s.async = true;\n          s.onload = () => {\n            VEGA_DEBUG[key] = version;\n            return resolve(paths[lib]);\n          };\n          s.onerror = () => reject(`Error loading script: ${paths[lib]}`);\n          s.src = paths[lib];\n        });\n    }\n\n    function showError(err) {\n      outputDiv.innerHTML = `<div class=\"error\" style=\"color:red;\">${err}</div>`;\n      throw err;\n    }\n\n    function displayChart(vegaEmbed) {\n      vegaEmbed(outputDiv, spec, embedOpt)\n        .catch(err => showError(`Javascript Error: ${err.message}<br>This usually means there's a typo in your chart specification. See the javascript console for the full traceback.`));\n    }\n\n    if(typeof define === \"function\" && define.amd) {\n      requirejs.config({paths});\n      require([\"vega-embed\"], displayChart, err => showError(`Error loading script: ${err.message}`));\n    } else {\n      maybeLoadScript(\"vega\", \"5\")\n        .then(() => maybeLoadScript(\"vega-lite\", \"4.17.0\"))\n        .then(() => maybeLoadScript(\"vega-embed\", \"6\"))\n        .catch(showError)\n        .then(() => displayChart(vegaEmbed));\n    }\n  })({\"config\": {\"view\": {\"continuousWidth\": 400, \"continuousHeight\": 300}}, \"layer\": [{\"data\": {\"url\": \"https://cdn.jsdelivr.net/npm/vega-datasets@v1.29.0/data/us-10m.json\", \"format\": {\"feature\": \"states\", \"type\": \"topojson\"}}, \"mark\": {\"type\": \"geoshape\", \"fill\": \"lightgray\", \"stroke\": \"white\"}, \"height\": 300, \"projection\": {\"type\": \"albersUsa\"}, \"width\": 500}, {\"data\": {\"url\": \"https://cdn.jsdelivr.net/npm/vega-datasets@v1.29.0/data/us-10m.json\", \"format\": {\"feature\": \"states\", \"type\": \"topojson\"}}, \"mark\": \"geoshape\", \"encoding\": {\"color\": {\"field\": \"n\", \"legend\": null, \"scale\": {\"scheme\": \"yelloworangered\"}, \"type\": \"quantitative\"}, \"tooltip\": [{\"field\": \"n\", \"title\": \"Population staying back\", \"type\": \"quantitative\"}]}, \"height\": 300, \"projection\": {\"type\": \"albersUsa\"}, \"transform\": [{\"lookup\": \"id\", \"from\": {\"data\": {\"name\": \"data-33343ad1836ae54b160937ce34eb3f75\"}, \"key\": \"d_state_id\", \"fields\": [\"n\"]}}], \"width\": 500}, {\"data\": {\"url\": \"https://cdn.jsdelivr.net/npm/vega-datasets@v1.29.0/data/us-10m.json\", \"format\": {\"feature\": \"states\", \"type\": \"topojson\"}}, \"mark\": {\"type\": \"geoshape\", \"stroke\": \"lightgray\"}, \"encoding\": {\"color\": {\"field\": \"n\", \"title\": \"Number of people migrating\", \"type\": \"quantitative\"}, \"tooltip\": [{\"field\": \"d_state_name\", \"title\": \"State\", \"type\": \"ordinal\"}, {\"field\": \"n\", \"title\": \"# migrating\", \"type\": \"quantitative\"}]}, \"height\": 500, \"projection\": {\"type\": \"albersUsa\"}, \"title\": \"Choropleth showing the number of people migrating from the selected state\", \"transform\": [{\"lookup\": \"id\", \"from\": {\"data\": {\"name\": \"data-f9bd88b735d76a55389f70bdf20e3bb7\"}, \"key\": \"d_state_id\", \"fields\": [\"n\", \"d_state_name\"]}}], \"width\": 1000}], \"resolve\": {\"scale\": {\"color\": \"independent\"}}, \"$schema\": \"https://vega.github.io/schema/vega-lite/v4.17.0.json\", \"datasets\": {\"data-33343ad1836ae54b160937ce34eb3f75\": [{\"d_state_id\": 56, \"d_state_name\": \"Wyoming\", \"n\": 41806}], \"data-f9bd88b735d76a55389f70bdf20e3bb7\": [{\"d_state_id\": 1, \"d_state_name\": \"Alabama\", \"n\": 91}, {\"d_state_id\": 2, \"d_state_name\": \"Alaska\", \"n\": 238}, {\"d_state_id\": 4, \"d_state_name\": \"Arizona\", \"n\": 889}, {\"d_state_id\": 5, \"d_state_name\": \"Arkansas\", \"n\": 139}, {\"d_state_id\": 6, \"d_state_name\": \"California\", \"n\": 1309}, {\"d_state_id\": 8, \"d_state_name\": \"Colorado\", \"n\": 4631}, {\"d_state_id\": 9, \"d_state_name\": \"Connecticut\", \"n\": 44}, {\"d_state_id\": 10, \"d_state_name\": \"Delaware\", \"n\": 17}, {\"d_state_id\": 11, \"d_state_name\": \"DC\", \"n\": 188}, {\"d_state_id\": 12, \"d_state_name\": \"Florida\", \"n\": 475}, {\"d_state_id\": 13, \"d_state_name\": \"Georgia\", \"n\": 244}, {\"d_state_id\": 15, \"d_state_name\": \"Hawaii\", \"n\": 141}, {\"d_state_id\": 16, \"d_state_name\": \"Idaho\", \"n\": 1103}, {\"d_state_id\": 17, \"d_state_name\": \"Illinois\", \"n\": 246}, {\"d_state_id\": 18, \"d_state_name\": \"Indiana\", \"n\": 175}, {\"d_state_id\": 19, \"d_state_name\": \"Iowa\", \"n\": 200}, {\"d_state_id\": 20, \"d_state_name\": \"Kansas\", \"n\": 314}, {\"d_state_id\": 21, \"d_state_name\": \"Kentucky\", \"n\": 82}, {\"d_state_id\": 22, \"d_state_name\": \"Louisiana\", \"n\": 139}, {\"d_state_id\": 23, \"d_state_name\": \"Maine\", \"n\": 35}, {\"d_state_id\": 24, \"d_state_name\": \"Maryland\", \"n\": 57}, {\"d_state_id\": 25, \"d_state_name\": \"Massachusetts\", \"n\": 87}, {\"d_state_id\": 26, \"d_state_name\": \"Michigan\", \"n\": 192}, {\"d_state_id\": 27, \"d_state_name\": \"Minnesota\", \"n\": 316}, {\"d_state_id\": 28, \"d_state_name\": \"Mississippi\", \"n\": 62}, {\"d_state_id\": 29, \"d_state_name\": \"Missouri\", \"n\": 353}, {\"d_state_id\": 30, \"d_state_name\": \"Montana\", \"n\": 2284}, {\"d_state_id\": 31, \"d_state_name\": \"Nebraska\", \"n\": 1179}, {\"d_state_id\": 32, \"d_state_name\": \"Nevada\", \"n\": 463}, {\"d_state_id\": 33, \"d_state_name\": \"New Hampshire\", \"n\": 29}, {\"d_state_id\": 34, \"d_state_name\": \"New Jersey\", \"n\": 32}, {\"d_state_id\": 35, \"d_state_name\": \"New Mexico\", \"n\": 302}, {\"d_state_id\": 36, \"d_state_name\": \"New York\", \"n\": 285}, {\"d_state_id\": 37, \"d_state_name\": \"North Carolina\", \"n\": 258}, {\"d_state_id\": 38, \"d_state_name\": \"North Dakota\", \"n\": 626}, {\"d_state_id\": 39, \"d_state_name\": \"Ohio\", \"n\": 198}, {\"d_state_id\": 40, \"d_state_name\": \"Oklahoma\", \"n\": 345}, {\"d_state_id\": 41, \"d_state_name\": \"Oregon\", \"n\": 741}, {\"d_state_id\": 42, \"d_state_name\": \"Pennsylvania\", \"n\": 188}, {\"d_state_id\": 44, \"d_state_name\": \"Rhode Island\", \"n\": 20}, {\"d_state_id\": 45, \"d_state_name\": \"South Carolina\", \"n\": 97}, {\"d_state_id\": 46, \"d_state_name\": \"South Dakota\", \"n\": 875}, {\"d_state_id\": 47, \"d_state_name\": \"Tennessee\", \"n\": 246}, {\"d_state_id\": 48, \"d_state_name\": \"Texas\", \"n\": 1427}, {\"d_state_id\": 49, \"d_state_name\": \"Utah\", \"n\": 2631}, {\"d_state_id\": 50, \"d_state_name\": \"Vermont\", \"n\": 24}, {\"d_state_id\": 51, \"d_state_name\": \"Virginia\", \"n\": 189}, {\"d_state_id\": 53, \"d_state_name\": \"Washington\", \"n\": 1138}, {\"d_state_id\": 54, \"d_state_name\": \"West Virginia\", \"n\": 33}, {\"d_state_id\": 55, \"d_state_name\": \"Wisconsin\", \"n\": 186}]}}, {\"mode\": \"vega-lite\"});\n</script>",
      "text/plain": "alt.LayerChart(...)"
     },
     "execution_count": 178,
     "metadata": {},
     "output_type": "execute_result"
    }
   ],
   "source": [
    "# Adding our data to the chart\n",
    "\n",
    "states = alt.topo_feature(data.us_10m.url, feature='states')\n",
    "migration_chart = alt.Chart(states, title=\"Choropleth showing the number of people migrating from the selected state\")\\\n",
    "    .mark_geoshape(\n",
    "            stroke='lightgray'\n",
    "        ).encode(\n",
    "            tooltip=[alt.Tooltip('d_state_name:O', title='State'),\n",
    "                     alt.Tooltip('n:Q', title='# moved here')],\n",
    "            color=alt.Color('n:Q',\n",
    "                 title = \"Number of people migrating\")\n",
    "        ).transform_lookup(\n",
    "            lookup='id',\n",
    "            from_=alt.LookupData(migration_df, 'd_state_id', ['n', 'd_state_name'] )\n",
    "        ).properties(\n",
    "            width=1000,\n",
    "            height=500\n",
    "        ).project(\n",
    "            type='albersUsa'\n",
    "        )\n",
    "\n",
    "alt.layer(\n",
    "    base_chart,\n",
    "    selection_chart,\n",
    "    migration_chart\n",
    ").resolve_scale(color='independent')"
   ],
   "metadata": {
    "collapsed": false,
    "pycharm": {
     "name": "#%%\n"
    }
   }
  },
  {
   "cell_type": "code",
   "execution_count": null,
   "outputs": [],
   "source": [],
   "metadata": {
    "collapsed": false,
    "pycharm": {
     "name": "#%%\n"
    }
   }
  }
 ],
 "metadata": {
  "kernelspec": {
   "display_name": "Python 3",
   "language": "python",
   "name": "python3"
  },
  "language_info": {
   "codemirror_mode": {
    "name": "ipython",
    "version": 2
   },
   "file_extension": ".py",
   "mimetype": "text/x-python",
   "name": "python",
   "nbconvert_exporter": "python",
   "pygments_lexer": "ipython2",
   "version": "2.7.6"
  }
 },
 "nbformat": 4,
 "nbformat_minor": 0
}