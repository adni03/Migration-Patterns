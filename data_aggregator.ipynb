{
 "cells": [
  {
   "cell_type": "code",
   "execution_count": 1,
   "metadata": {
    "pycharm": {
     "name": "#%%\n"
    }
   },
   "outputs": [],
   "source": [
    "import pandas as pd"
   ]
  },
  {
   "cell_type": "code",
   "execution_count": 2,
   "metadata": {
    "pycharm": {
     "name": "#%%\n"
    }
   },
   "outputs": [
    {
     "name": "stdout",
     "output_type": "stream",
     "text": [
      "<class 'pandas.core.frame.DataFrame'>\n",
      "RangeIndex: 13727025 entries, 0 to 13727024\n",
      "Data columns (total 12 columns):\n",
      " #   Column        Non-Null Count     Dtype  \n",
      "---  ------        --------------     -----  \n",
      " 0   o_cz          13727025 non-null  int64  \n",
      " 1   o_cz_name     13727025 non-null  object \n",
      " 2   o_state_name  13727025 non-null  object \n",
      " 3   d_cz          13727025 non-null  int64  \n",
      " 4   d_cz_name     13727025 non-null  object \n",
      " 5   d_state_name  13727025 non-null  object \n",
      " 6   n             13727025 non-null  int64  \n",
      " 7   n_tot_o       13727025 non-null  int64  \n",
      " 8   n_tot_d       13727025 non-null  int64  \n",
      " 9   pool          13727025 non-null  object \n",
      " 10  pr_d_o        13139412 non-null  float64\n",
      " 11  pr_o_d        13125333 non-null  float64\n",
      "dtypes: float64(2), int64(5), object(5)\n",
      "memory usage: 1.2+ GB\n"
     ]
    }
   ],
   "source": [
    "# Reading the data\n",
    "\n",
    "df = pd.read_csv('/Users/adityanittala/Documents/Carnegie Mellon University/Semester - 3/Interactive Data Science/Assignment 3/abnormal_distribution/MigrationPatternsData/od.csv')\n",
    "df.info(verbose=True, show_counts=True)"
   ]
  },
  {
   "cell_type": "code",
   "execution_count": 3,
   "metadata": {
    "pycharm": {
     "name": "#%%\n"
    }
   },
   "outputs": [
    {
     "data": {
      "text/plain": "   o_cz     o_cz_name o_state_name   d_cz       d_cz_name    d_state_name  n  \\\n0   100  Johnson City    Tennessee  10000     Panama City         Florida  0   \n1   100  Johnson City    Tennessee  31303       Kerrville           Texas  0   \n2   100  Johnson City    Tennessee  10600          Jasper         Alabama  0   \n3   100  Johnson City    Tennessee   2600  Roanoke Rapids  North Carolina  0   \n4   100  Johnson City    Tennessee  11402       Marinette        Michigan  0   \n5   100  Johnson City    Tennessee  35401       Flagstaff         Arizona  0   \n6   100  Johnson City    Tennessee  26704     Grand Forks    North Dakota  0   \n7   100  Johnson City    Tennessee  26102        Marshall        Missouri  0   \n8   100  Johnson City    Tennessee  25300      Union City       Tennessee  0   \n9   100  Johnson City    Tennessee  32306      Eagle Pass           Texas  0   \n\n   n_tot_o  n_tot_d     pool  pr_d_o  pr_o_d  \n0       36       44  AsianQ1     0.0     0.0  \n1       36        2  AsianQ1     0.0     0.0  \n2       36        6  AsianQ1     0.0     0.0  \n3       36        8  AsianQ1     0.0     0.0  \n4       36        5  AsianQ1     0.0     0.0  \n5       36       22  AsianQ1     0.0     0.0  \n6       36        5  AsianQ1     0.0     0.0  \n7       36        1  AsianQ1     0.0     0.0  \n8       36        9  AsianQ1     0.0     0.0  \n9       36        1  AsianQ1     0.0     0.0  ",
      "text/html": "<div>\n<style scoped>\n    .dataframe tbody tr th:only-of-type {\n        vertical-align: middle;\n    }\n\n    .dataframe tbody tr th {\n        vertical-align: top;\n    }\n\n    .dataframe thead th {\n        text-align: right;\n    }\n</style>\n<table border=\"1\" class=\"dataframe\">\n  <thead>\n    <tr style=\"text-align: right;\">\n      <th></th>\n      <th>o_cz</th>\n      <th>o_cz_name</th>\n      <th>o_state_name</th>\n      <th>d_cz</th>\n      <th>d_cz_name</th>\n      <th>d_state_name</th>\n      <th>n</th>\n      <th>n_tot_o</th>\n      <th>n_tot_d</th>\n      <th>pool</th>\n      <th>pr_d_o</th>\n      <th>pr_o_d</th>\n    </tr>\n  </thead>\n  <tbody>\n    <tr>\n      <th>0</th>\n      <td>100</td>\n      <td>Johnson City</td>\n      <td>Tennessee</td>\n      <td>10000</td>\n      <td>Panama City</td>\n      <td>Florida</td>\n      <td>0</td>\n      <td>36</td>\n      <td>44</td>\n      <td>AsianQ1</td>\n      <td>0.0</td>\n      <td>0.0</td>\n    </tr>\n    <tr>\n      <th>1</th>\n      <td>100</td>\n      <td>Johnson City</td>\n      <td>Tennessee</td>\n      <td>31303</td>\n      <td>Kerrville</td>\n      <td>Texas</td>\n      <td>0</td>\n      <td>36</td>\n      <td>2</td>\n      <td>AsianQ1</td>\n      <td>0.0</td>\n      <td>0.0</td>\n    </tr>\n    <tr>\n      <th>2</th>\n      <td>100</td>\n      <td>Johnson City</td>\n      <td>Tennessee</td>\n      <td>10600</td>\n      <td>Jasper</td>\n      <td>Alabama</td>\n      <td>0</td>\n      <td>36</td>\n      <td>6</td>\n      <td>AsianQ1</td>\n      <td>0.0</td>\n      <td>0.0</td>\n    </tr>\n    <tr>\n      <th>3</th>\n      <td>100</td>\n      <td>Johnson City</td>\n      <td>Tennessee</td>\n      <td>2600</td>\n      <td>Roanoke Rapids</td>\n      <td>North Carolina</td>\n      <td>0</td>\n      <td>36</td>\n      <td>8</td>\n      <td>AsianQ1</td>\n      <td>0.0</td>\n      <td>0.0</td>\n    </tr>\n    <tr>\n      <th>4</th>\n      <td>100</td>\n      <td>Johnson City</td>\n      <td>Tennessee</td>\n      <td>11402</td>\n      <td>Marinette</td>\n      <td>Michigan</td>\n      <td>0</td>\n      <td>36</td>\n      <td>5</td>\n      <td>AsianQ1</td>\n      <td>0.0</td>\n      <td>0.0</td>\n    </tr>\n    <tr>\n      <th>5</th>\n      <td>100</td>\n      <td>Johnson City</td>\n      <td>Tennessee</td>\n      <td>35401</td>\n      <td>Flagstaff</td>\n      <td>Arizona</td>\n      <td>0</td>\n      <td>36</td>\n      <td>22</td>\n      <td>AsianQ1</td>\n      <td>0.0</td>\n      <td>0.0</td>\n    </tr>\n    <tr>\n      <th>6</th>\n      <td>100</td>\n      <td>Johnson City</td>\n      <td>Tennessee</td>\n      <td>26704</td>\n      <td>Grand Forks</td>\n      <td>North Dakota</td>\n      <td>0</td>\n      <td>36</td>\n      <td>5</td>\n      <td>AsianQ1</td>\n      <td>0.0</td>\n      <td>0.0</td>\n    </tr>\n    <tr>\n      <th>7</th>\n      <td>100</td>\n      <td>Johnson City</td>\n      <td>Tennessee</td>\n      <td>26102</td>\n      <td>Marshall</td>\n      <td>Missouri</td>\n      <td>0</td>\n      <td>36</td>\n      <td>1</td>\n      <td>AsianQ1</td>\n      <td>0.0</td>\n      <td>0.0</td>\n    </tr>\n    <tr>\n      <th>8</th>\n      <td>100</td>\n      <td>Johnson City</td>\n      <td>Tennessee</td>\n      <td>25300</td>\n      <td>Union City</td>\n      <td>Tennessee</td>\n      <td>0</td>\n      <td>36</td>\n      <td>9</td>\n      <td>AsianQ1</td>\n      <td>0.0</td>\n      <td>0.0</td>\n    </tr>\n    <tr>\n      <th>9</th>\n      <td>100</td>\n      <td>Johnson City</td>\n      <td>Tennessee</td>\n      <td>32306</td>\n      <td>Eagle Pass</td>\n      <td>Texas</td>\n      <td>0</td>\n      <td>36</td>\n      <td>1</td>\n      <td>AsianQ1</td>\n      <td>0.0</td>\n      <td>0.0</td>\n    </tr>\n  </tbody>\n</table>\n</div>"
     },
     "execution_count": 3,
     "metadata": {},
     "output_type": "execute_result"
    }
   ],
   "source": [
    "df.head(10)"
   ]
  },
  {
   "cell_type": "code",
   "execution_count": 24,
   "metadata": {
    "pycharm": {
     "name": "#%%\n"
    }
   },
   "outputs": [
    {
     "data": {
      "text/plain": "      o_state_name d_state_name     pool      n\n0          Alabama      Alabama  AsianQ1    296\n1          Alabama      Alabama  AsianQ2    272\n2          Alabama      Alabama  AsianQ3    304\n3          Alabama      Alabama  AsianQ4    271\n4          Alabama      Alabama  AsianQ5    310\n...            ...          ...      ...    ...\n65020      Wyoming      Wyoming  WhiteQ1   3710\n65021      Wyoming      Wyoming  WhiteQ2   5298\n65022      Wyoming      Wyoming  WhiteQ3   8662\n65023      Wyoming      Wyoming  WhiteQ4  10717\n65024      Wyoming      Wyoming  WhiteQ5   6461\n\n[65025 rows x 4 columns]",
      "text/html": "<div>\n<style scoped>\n    .dataframe tbody tr th:only-of-type {\n        vertical-align: middle;\n    }\n\n    .dataframe tbody tr th {\n        vertical-align: top;\n    }\n\n    .dataframe thead th {\n        text-align: right;\n    }\n</style>\n<table border=\"1\" class=\"dataframe\">\n  <thead>\n    <tr style=\"text-align: right;\">\n      <th></th>\n      <th>o_state_name</th>\n      <th>d_state_name</th>\n      <th>pool</th>\n      <th>n</th>\n    </tr>\n  </thead>\n  <tbody>\n    <tr>\n      <th>0</th>\n      <td>Alabama</td>\n      <td>Alabama</td>\n      <td>AsianQ1</td>\n      <td>296</td>\n    </tr>\n    <tr>\n      <th>1</th>\n      <td>Alabama</td>\n      <td>Alabama</td>\n      <td>AsianQ2</td>\n      <td>272</td>\n    </tr>\n    <tr>\n      <th>2</th>\n      <td>Alabama</td>\n      <td>Alabama</td>\n      <td>AsianQ3</td>\n      <td>304</td>\n    </tr>\n    <tr>\n      <th>3</th>\n      <td>Alabama</td>\n      <td>Alabama</td>\n      <td>AsianQ4</td>\n      <td>271</td>\n    </tr>\n    <tr>\n      <th>4</th>\n      <td>Alabama</td>\n      <td>Alabama</td>\n      <td>AsianQ5</td>\n      <td>310</td>\n    </tr>\n    <tr>\n      <th>...</th>\n      <td>...</td>\n      <td>...</td>\n      <td>...</td>\n      <td>...</td>\n    </tr>\n    <tr>\n      <th>65020</th>\n      <td>Wyoming</td>\n      <td>Wyoming</td>\n      <td>WhiteQ1</td>\n      <td>3710</td>\n    </tr>\n    <tr>\n      <th>65021</th>\n      <td>Wyoming</td>\n      <td>Wyoming</td>\n      <td>WhiteQ2</td>\n      <td>5298</td>\n    </tr>\n    <tr>\n      <th>65022</th>\n      <td>Wyoming</td>\n      <td>Wyoming</td>\n      <td>WhiteQ3</td>\n      <td>8662</td>\n    </tr>\n    <tr>\n      <th>65023</th>\n      <td>Wyoming</td>\n      <td>Wyoming</td>\n      <td>WhiteQ4</td>\n      <td>10717</td>\n    </tr>\n    <tr>\n      <th>65024</th>\n      <td>Wyoming</td>\n      <td>Wyoming</td>\n      <td>WhiteQ5</td>\n      <td>6461</td>\n    </tr>\n  </tbody>\n</table>\n<p>65025 rows × 4 columns</p>\n</div>"
     },
     "execution_count": 24,
     "metadata": {},
     "output_type": "execute_result"
    }
   ],
   "source": [
    "grouped_df = df.groupby(['o_state_name', 'd_state_name', 'pool'])['n']\\\n",
    "                .agg('sum')\\\n",
    "                .reset_index()\n",
    "grouped_df"
   ]
  },
  {
   "cell_type": "code",
   "execution_count": 25,
   "outputs": [
    {
     "data": {
      "text/plain": "      o_state_name d_state_name      n   race quintile\n0          Alabama      Alabama    296  Asian        1\n1          Alabama      Alabama    272  Asian        2\n2          Alabama      Alabama    304  Asian        3\n3          Alabama      Alabama    271  Asian        4\n4          Alabama      Alabama    310  Asian        5\n...            ...          ...    ...    ...      ...\n65020      Wyoming      Wyoming   3710  White        1\n65021      Wyoming      Wyoming   5298  White        2\n65022      Wyoming      Wyoming   8662  White        3\n65023      Wyoming      Wyoming  10717  White        4\n65024      Wyoming      Wyoming   6461  White        5\n\n[65025 rows x 5 columns]",
      "text/html": "<div>\n<style scoped>\n    .dataframe tbody tr th:only-of-type {\n        vertical-align: middle;\n    }\n\n    .dataframe tbody tr th {\n        vertical-align: top;\n    }\n\n    .dataframe thead th {\n        text-align: right;\n    }\n</style>\n<table border=\"1\" class=\"dataframe\">\n  <thead>\n    <tr style=\"text-align: right;\">\n      <th></th>\n      <th>o_state_name</th>\n      <th>d_state_name</th>\n      <th>n</th>\n      <th>race</th>\n      <th>quintile</th>\n    </tr>\n  </thead>\n  <tbody>\n    <tr>\n      <th>0</th>\n      <td>Alabama</td>\n      <td>Alabama</td>\n      <td>296</td>\n      <td>Asian</td>\n      <td>1</td>\n    </tr>\n    <tr>\n      <th>1</th>\n      <td>Alabama</td>\n      <td>Alabama</td>\n      <td>272</td>\n      <td>Asian</td>\n      <td>2</td>\n    </tr>\n    <tr>\n      <th>2</th>\n      <td>Alabama</td>\n      <td>Alabama</td>\n      <td>304</td>\n      <td>Asian</td>\n      <td>3</td>\n    </tr>\n    <tr>\n      <th>3</th>\n      <td>Alabama</td>\n      <td>Alabama</td>\n      <td>271</td>\n      <td>Asian</td>\n      <td>4</td>\n    </tr>\n    <tr>\n      <th>4</th>\n      <td>Alabama</td>\n      <td>Alabama</td>\n      <td>310</td>\n      <td>Asian</td>\n      <td>5</td>\n    </tr>\n    <tr>\n      <th>...</th>\n      <td>...</td>\n      <td>...</td>\n      <td>...</td>\n      <td>...</td>\n      <td>...</td>\n    </tr>\n    <tr>\n      <th>65020</th>\n      <td>Wyoming</td>\n      <td>Wyoming</td>\n      <td>3710</td>\n      <td>White</td>\n      <td>1</td>\n    </tr>\n    <tr>\n      <th>65021</th>\n      <td>Wyoming</td>\n      <td>Wyoming</td>\n      <td>5298</td>\n      <td>White</td>\n      <td>2</td>\n    </tr>\n    <tr>\n      <th>65022</th>\n      <td>Wyoming</td>\n      <td>Wyoming</td>\n      <td>8662</td>\n      <td>White</td>\n      <td>3</td>\n    </tr>\n    <tr>\n      <th>65023</th>\n      <td>Wyoming</td>\n      <td>Wyoming</td>\n      <td>10717</td>\n      <td>White</td>\n      <td>4</td>\n    </tr>\n    <tr>\n      <th>65024</th>\n      <td>Wyoming</td>\n      <td>Wyoming</td>\n      <td>6461</td>\n      <td>White</td>\n      <td>5</td>\n    </tr>\n  </tbody>\n</table>\n<p>65025 rows × 5 columns</p>\n</div>"
     },
     "execution_count": 25,
     "metadata": {},
     "output_type": "execute_result"
    }
   ],
   "source": [
    "# Splitting the pool in to state and quantile\n",
    "\n",
    "splits = grouped_df['pool'].str.split('Q', expand=True)\n",
    "grouped_df['race'] = splits[0]\n",
    "grouped_df['quintile'] = splits[1]\n",
    "grouped_df.drop(['pool'], axis=1, inplace=True)\n",
    "grouped_df"
   ],
   "metadata": {
    "collapsed": false,
    "pycharm": {
     "name": "#%%\n"
    }
   }
  },
  {
   "cell_type": "code",
   "execution_count": 28,
   "outputs": [
    {
     "data": {
      "text/plain": "       o_state_id o_state_name  d_state_id d_state_name   race quintile      n\n0               1      Alabama           1      Alabama  Asian        1    296\n1               1      Alabama           1      Alabama  Asian        2    272\n2               1      Alabama           1      Alabama  Asian        3    304\n3               1      Alabama           1      Alabama  Asian        4    271\n4               1      Alabama           1      Alabama  Asian        5    310\n...           ...          ...         ...          ...    ...      ...    ...\n65020          51      Wyoming          51      Wyoming  White        1   3710\n65021          51      Wyoming          51      Wyoming  White        2   5298\n65022          51      Wyoming          51      Wyoming  White        3   8662\n65023          51      Wyoming          51      Wyoming  White        4  10717\n65024          51      Wyoming          51      Wyoming  White        5   6461\n\n[65025 rows x 7 columns]",
      "text/html": "<div>\n<style scoped>\n    .dataframe tbody tr th:only-of-type {\n        vertical-align: middle;\n    }\n\n    .dataframe tbody tr th {\n        vertical-align: top;\n    }\n\n    .dataframe thead th {\n        text-align: right;\n    }\n</style>\n<table border=\"1\" class=\"dataframe\">\n  <thead>\n    <tr style=\"text-align: right;\">\n      <th></th>\n      <th>o_state_id</th>\n      <th>o_state_name</th>\n      <th>d_state_id</th>\n      <th>d_state_name</th>\n      <th>race</th>\n      <th>quintile</th>\n      <th>n</th>\n    </tr>\n  </thead>\n  <tbody>\n    <tr>\n      <th>0</th>\n      <td>1</td>\n      <td>Alabama</td>\n      <td>1</td>\n      <td>Alabama</td>\n      <td>Asian</td>\n      <td>1</td>\n      <td>296</td>\n    </tr>\n    <tr>\n      <th>1</th>\n      <td>1</td>\n      <td>Alabama</td>\n      <td>1</td>\n      <td>Alabama</td>\n      <td>Asian</td>\n      <td>2</td>\n      <td>272</td>\n    </tr>\n    <tr>\n      <th>2</th>\n      <td>1</td>\n      <td>Alabama</td>\n      <td>1</td>\n      <td>Alabama</td>\n      <td>Asian</td>\n      <td>3</td>\n      <td>304</td>\n    </tr>\n    <tr>\n      <th>3</th>\n      <td>1</td>\n      <td>Alabama</td>\n      <td>1</td>\n      <td>Alabama</td>\n      <td>Asian</td>\n      <td>4</td>\n      <td>271</td>\n    </tr>\n    <tr>\n      <th>4</th>\n      <td>1</td>\n      <td>Alabama</td>\n      <td>1</td>\n      <td>Alabama</td>\n      <td>Asian</td>\n      <td>5</td>\n      <td>310</td>\n    </tr>\n    <tr>\n      <th>...</th>\n      <td>...</td>\n      <td>...</td>\n      <td>...</td>\n      <td>...</td>\n      <td>...</td>\n      <td>...</td>\n      <td>...</td>\n    </tr>\n    <tr>\n      <th>65020</th>\n      <td>51</td>\n      <td>Wyoming</td>\n      <td>51</td>\n      <td>Wyoming</td>\n      <td>White</td>\n      <td>1</td>\n      <td>3710</td>\n    </tr>\n    <tr>\n      <th>65021</th>\n      <td>51</td>\n      <td>Wyoming</td>\n      <td>51</td>\n      <td>Wyoming</td>\n      <td>White</td>\n      <td>2</td>\n      <td>5298</td>\n    </tr>\n    <tr>\n      <th>65022</th>\n      <td>51</td>\n      <td>Wyoming</td>\n      <td>51</td>\n      <td>Wyoming</td>\n      <td>White</td>\n      <td>3</td>\n      <td>8662</td>\n    </tr>\n    <tr>\n      <th>65023</th>\n      <td>51</td>\n      <td>Wyoming</td>\n      <td>51</td>\n      <td>Wyoming</td>\n      <td>White</td>\n      <td>4</td>\n      <td>10717</td>\n    </tr>\n    <tr>\n      <th>65024</th>\n      <td>51</td>\n      <td>Wyoming</td>\n      <td>51</td>\n      <td>Wyoming</td>\n      <td>White</td>\n      <td>5</td>\n      <td>6461</td>\n    </tr>\n  </tbody>\n</table>\n<p>65025 rows × 7 columns</p>\n</div>"
     },
     "execution_count": 28,
     "metadata": {},
     "output_type": "execute_result"
    }
   ],
   "source": [
    "# Adding unique identifier for source and destination states\n",
    "\n",
    "## Source state\n",
    "state_id_dict = {}\n",
    "\n",
    "for idx, state in enumerate(grouped_df['o_state_name'].unique()):\n",
    "    state_id_dict[state] = idx + 1\n",
    "\n",
    "def assign_state_id(state):\n",
    "    return state_id_dict[state]\n",
    "\n",
    "grouped_df['o_state_id'] = grouped_df.apply(lambda x: assign_state_id(x['o_state_name']), axis=1)\n",
    "grouped_df['d_state_id'] = grouped_df.apply(lambda x: assign_state_id(x['d_state_name']), axis=1)\n",
    "\n",
    "col_order = ['o_state_id', 'o_state_name', 'd_state_id', 'd_state_name',\n",
    "             'race', 'quintile', 'n']\n",
    "grouped_df = grouped_df.reindex(columns=col_order)\n",
    "\n",
    "grouped_df"
   ],
   "metadata": {
    "collapsed": false,
    "pycharm": {
     "name": "#%%\n"
    }
   }
  },
  {
   "cell_type": "code",
   "execution_count": 30,
   "outputs": [],
   "source": [
    "grouped_df.to_csv('state_to_state_migration.csv')"
   ],
   "metadata": {
    "collapsed": false,
    "pycharm": {
     "name": "#%%\n"
    }
   }
  },
  {
   "cell_type": "code",
   "execution_count": null,
   "outputs": [],
   "source": [],
   "metadata": {
    "collapsed": false,
    "pycharm": {
     "name": "#%%\n"
    }
   }
  }
 ],
 "metadata": {
  "kernelspec": {
   "display_name": "Python 3.8.13 ('deeplearning')",
   "language": "python",
   "name": "python3"
  },
  "language_info": {
   "codemirror_mode": {
    "name": "ipython",
    "version": 3
   },
   "file_extension": ".py",
   "mimetype": "text/x-python",
   "name": "python",
   "nbconvert_exporter": "python",
   "pygments_lexer": "ipython3",
   "version": "3.8.13"
  },
  "orig_nbformat": 4,
  "vscode": {
   "interpreter": {
    "hash": "14ab9f8ece989a654683820561f7b47214bb5fd21a9181522dfa8dff69a4de34"
   }
  }
 },
 "nbformat": 4,
 "nbformat_minor": 2
}